{
 "cells": [
  {
   "cell_type": "markdown",
   "metadata": {},
   "source": [
    "<div style=\"\n",
    "    background-color: #E3F2FD; \n",
    "    padding: 20px; \n",
    "    text-align: center;\"\n",
    "    >\n",
    "    <h1 style=\"color: darkblue; font-family: Poppins, sans-serif; margin-bottom: 5px; font-weight: bold;\">\n",
    "        Làm sạch dữ liệu về diễn biến dịch Covid-19\n",
    "    </h1>\n",
    "    <h3 style=\"color:darkblue; font-family: Poppins, sans-serif; margin-top: 0;\">\n",
    "        Nhóm 9\n",
    "    </h3>\n",
    "<hr style=\"border: 2x solid darkblue;\">\n",
    "</div>\n"
   ]
  },
  {
   "cell_type": "markdown",
   "metadata": {},
   "source": [
    "### Nhập các thư viện cần thiết"
   ]
  },
  {
   "cell_type": "code",
   "execution_count": null,
   "metadata": {},
   "outputs": [],
   "source": [
    "import pandas as pd\n",
    "import numpy as np\n",
    "import os\n",
    "import re\n",
    "import matplotlib.pyplot as plt\n",
    "import seaborn as sns\n",
    "from datetime import datetime\n",
    "from dateutil import parser\n",
    "\n",
    "%matplotlib inline\n",
    "import warnings\n",
    "warnings.filterwarnings(\"ignore\")\n",
    "\n",
    "RAW_DATA_PATH = r\"../data/raw\"\n",
    "PROCESSED_DATA_PATH = r\"../data/processed\""
   ]
  },
  {
   "cell_type": "code",
   "execution_count": null,
   "metadata": {},
   "outputs": [],
   "source": [
    "plt.style.use(\"seaborn-v0_8-whitegrid\")\n",
    "sns.set_palette(\"Set2\")\n",
    "plt.rcParams[\"figure.figsize\"] = (12, 8)\n",
    "plt.rcParams[\"font.size\"] = 12\n",
    "\n",
    "pd.set_option(\"display.max_columns\", None)"
   ]
  },
  {
   "cell_type": "markdown",
   "metadata": {},
   "source": []
  },
  {
   "cell_type": "code",
   "execution_count": null,
   "metadata": {},
   "outputs": [],
   "source": [
    "covid_data = pd.read_csv(os.path.join(RAW_DATA_PATH, \"covid_19_data.csv\"))"
   ]
  },
  {
   "cell_type": "markdown",
   "metadata": {},
   "source": [
    "Kiểm tra lại bảng dữ liệu"
   ]
  },
  {
   "cell_type": "code",
   "execution_count": null,
   "metadata": {},
   "outputs": [],
   "source": [
    "covid_data.head(5)"
   ]
  },
  {
   "cell_type": "code",
   "execution_count": null,
   "metadata": {},
   "outputs": [],
   "source": [
    "covid_data.info()"
   ]
  },
  {
   "cell_type": "markdown",
   "metadata": {},
   "source": [
    "Với các cột Confirmed, Deaths, Recovered. Ta có thể chuyển sang kiểu dữ liệu int cho phù hợp"
   ]
  },
  {
   "cell_type": "code",
   "execution_count": null,
   "metadata": {},
   "outputs": [],
   "source": [
    "covid_data[\"Confirmed\"] = covid_data[\"Confirmed\"].astype(int)\n",
    "covid_data[\"Deaths\"] = covid_data[\"Deaths\"].astype(int)\n",
    "covid_data[\"Recovered\"] = covid_data[\"Recovered\"].astype(int)"
   ]
  },
  {
   "cell_type": "markdown",
   "metadata": {},
   "source": [
    "Strip các cột có dữ liệu dạng str để tránh bị lỗi dư dấu cách 2 phía "
   ]
  },
  {
   "cell_type": "code",
   "execution_count": null,
   "metadata": {},
   "outputs": [],
   "source": [
    "covid_data[\"Country/Region\"] = covid_data[\"Country/Region\"].apply(lambda x: x.strip() if isinstance(x, str) else x)\n",
    "covid_data[\"Province/State\"] = covid_data[\"Province/State\"].apply(lambda x: x.strip() if isinstance(x, str) else x)"
   ]
  },
  {
   "cell_type": "markdown",
   "metadata": {},
   "source": [
    "***Làm sạch cột ObservationDate và Last Update.***  \n",
    "\n",
    "Vấn đề: Dữ liệu trong cột ObservationDate và Last Update là kiểu string, các giá trị không có sự thống nhất về định dạng để chuyển đổi sang datetime bằng phương pháp thủ công.  \n",
    "Giải quyết: Dùng hàm parser.parse() từ thư viện dateutil.  \n",
    "- Hàm parse() tự động chuyển đổi các giá trị có kiểu string về datetime nếu string đủ thông tin về thời gian.  \n",
    "- Các giá trị không thể chuyển đổi sẽ gán dưới dạng pd.NaT (Not A Time) để kiểm tra.  "
   ]
  },
  {
   "cell_type": "code",
   "execution_count": null,
   "metadata": {},
   "outputs": [],
   "source": [
    "#Hàm chuyển đổi string về datetime\n",
    "def safe_parse(date_str): \n",
    "    try:\n",
    "        # Sử dụng parser của dateutil để chuyển đổi\n",
    "        return parser.parse(date_str, dayfirst=True)  # dayfirst=True ưu tiên định dạng DD/MM/YYYY\n",
    "    except (ValueError, TypeError):\n",
    "        # Nếu không chuyển đổi được, trả về NaT (Not a Time)\n",
    "        return pd.NaT"
   ]
  },
  {
   "cell_type": "code",
   "execution_count": null,
   "metadata": {},
   "outputs": [],
   "source": [
    "#Chuyển đổi 2 cột ObservationDate và Last Update về datetime\n",
    "covid_data['ObservationDate'] = covid_data['ObservationDate'].apply(safe_parse)\n",
    "covid_data['Last Update'] = covid_data['Last Update'].apply(safe_parse)"
   ]
  },
  {
   "cell_type": "code",
   "execution_count": null,
   "metadata": {},
   "outputs": [],
   "source": [
    "#Kiểm tra có giá trị nào không chuyển đổi thành công hay không\n",
    "print(covid_data['ObservationDate'].isna().any())\n",
    "print(covid_data['Last Update'].isna().any())"
   ]
  },
  {
   "cell_type": "markdown",
   "metadata": {},
   "source": [
    "Kết quả: Không có dữ liệu lỗi, tất cả đã được chuyển thành công"
   ]
  },
  {
   "cell_type": "markdown",
   "metadata": {},
   "source": [
    "#### Kiểm tra các giá trị null trong dữ liệu và fill các giá trị null"
   ]
  },
  {
   "cell_type": "markdown",
   "metadata": {},
   "source": [
    "***Kiểm tra từng cột trong bảng có giá trị null hay không***"
   ]
  },
  {
   "cell_type": "code",
   "execution_count": null,
   "metadata": {},
   "outputs": [],
   "source": [
    "covid_data.isnull().sum()"
   ]
  },
  {
   "cell_type": "code",
   "execution_count": null,
   "metadata": {},
   "outputs": [],
   "source": [
    "covid_data.describe()"
   ]
  },
  {
   "cell_type": "markdown",
   "metadata": {},
   "source": [
    "Ta thấy chỉ có cột Province/State có giá trị null với tỉ lệ khoảng 25% => nên tìm cách fill các dữ liệu cột Province/State"
   ]
  },
  {
   "cell_type": "code",
   "execution_count": null,
   "metadata": {},
   "outputs": [],
   "source": [
    "missed_province_count_covid_data = covid_data[covid_data[\"Province/State\"].isnull()].loc[:,[\"SNo\",\"Country/Region\"]].groupby(\"Country/Region\").count().reset_index()\n",
    "missed_province_count_covid_data.rename({\"SNo\": \"null_count\"},axis=1, inplace=True)\n",
    "province_count_covid_data = covid_data.loc[:,[\"SNo\",\"Country/Region\"]].groupby(\"Country/Region\").count().reset_index()\n",
    "province_count_covid_data.rename({\"SNo\": \"total_count\"}, axis=1, inplace=True)"
   ]
  },
  {
   "cell_type": "code",
   "execution_count": null,
   "metadata": {},
   "outputs": [],
   "source": [
    "joined_covid_data = pd.merge(missed_province_count_covid_data, province_count_covid_data, on=\"Country/Region\", how=\"inner\")\n",
    "joined_covid_data[\"missed_rate\"] = (joined_covid_data[\"null_count\"] / joined_covid_data[\"total_count\"]) * 100\n",
    "joined_covid_data.sort_values(\"missed_rate\", ascending=True, inplace=True)\n",
    "joined_covid_data.head(25)"
   ]
  },
  {
   "cell_type": "markdown",
   "metadata": {},
   "source": [
    "=> Có số lượng lớn quốc gia có tỉ lệ null cột Province/State là 100%. Cần tìm ra 1 giá trị thay thế ví dụ như No Information, Unknown,..."
   ]
  },
  {
   "cell_type": "markdown",
   "metadata": {},
   "source": [
    "Kiểm tra các giá trị của Province/State của một quốc gia có tỉ lệ null vừa phải để tìm cách fill các giá trị null"
   ]
  },
  {
   "cell_type": "code",
   "execution_count": null,
   "metadata": {},
   "outputs": [],
   "source": [
    "covid_data[covid_data[\"Country/Region\"] == \"Japan\"][\"Province/State\"].unique()"
   ]
  },
  {
   "cell_type": "markdown",
   "metadata": {},
   "source": [
    "Ta thấy ở Nhật Bản có sử dụng Unknown có các giá trị bị mất\\\n",
    "=> Ta có thể sử dụng Unkwown cho các giá trị null"
   ]
  },
  {
   "cell_type": "code",
   "execution_count": null,
   "metadata": {},
   "outputs": [],
   "source": [
    "covid_data.fillna({\"Province/State\": \"Unknown\"}, inplace=True)"
   ]
  },
  {
   "cell_type": "markdown",
   "metadata": {},
   "source": [
    "#### Kiểm tra outliers và xử lý dữ liệu nhiễu"
   ]
  },
  {
   "cell_type": "markdown",
   "metadata": {},
   "source": [
    "***Các cột dữ liệu số***"
   ]
  },
  {
   "cell_type": "code",
   "execution_count": null,
   "metadata": {},
   "outputs": [],
   "source": [
    "numerical_cols = ['Confirmed', 'Recovered', 'Deaths']\n",
    "covid_data[numerical_cols].info()S"
   ]
  },
  {
   "cell_type": "markdown",
   "metadata": {},
   "source": [
    "**Vẽ biểu đồ box plot để kiểm tra outliers ở từng cột**"
   ]
  },
  {
   "cell_type": "code",
   "execution_count": null,
   "metadata": {},
   "outputs": [],
   "source": [
    "def visualize_outliers(data, columns):\n",
    "    for column in columns:\n",
    "        plt.figure(figsize=(15,4))\n",
    "        sns.boxplot(x=data[column])\n",
    "        plt.title(f'Biểu đồ box plot cho cột {column}')\n",
    "        plt.show()\n",
    "\n",
    "visualize_outliers(covid_data, numerical_cols)"
   ]
  },
  {
   "cell_type": "markdown",
   "metadata": {},
   "source": [
    "- Cả 3 cột Confirmed, Recovered, Deaths đều có nhiều outlier (giá trị vượt xa trung vị).\n",
    "- Phần lớn quốc gia có số ca tương đối thấp, tập trung sát mốc 0.\n",
    "- Một số quốc gia có số ca cực cao gây lệch dữ liệu và kéo dài đuôi bên phải."
   ]
  },
  {
   "cell_type": "markdown",
   "metadata": {},
   "source": [
    "**Phân tích chi tiết phân phối của outliers**"
   ]
  },
  {
   "cell_type": "code",
   "execution_count": null,
   "metadata": {},
   "outputs": [],
   "source": [
    "def analyze_outliers(data, columns):\n",
    "    for column in columns:\n",
    "        mean_val = data[column].mean()\n",
    "        median_val = data[column].median()\n",
    "        \n",
    "        # Get top 5 highest values along with their observation dates and regions\n",
    "        top_values = data[[column, 'ObservationDate', 'Country/Region']].nlargest(5, column)\n",
    "        print(f\"\\nPhân tích {column}:\")\n",
    "        print(f\"Giá trị trung bình: {mean_val:.2f}\")\n",
    "        print(f\"Giá trị trung vị: {median_val:.2f}\")\n",
    "        print(f\"\\nTop 5 giá trị cao nhất và thông tin chi tiết:\")\n",
    "        print(top_values)\n"
   ]
  },
  {
   "cell_type": "code",
   "execution_count": null,
   "metadata": {},
   "outputs": [],
   "source": [
    "\n",
    "# Apply the function to the numerical columns\n",
    "analyze_outliers(covid_data, numerical_cols)\n"
   ]
  },
  {
   "cell_type": "code",
   "execution_count": null,
   "metadata": {},
   "outputs": [],
   "source": [
    "# Visualize the distribution of numerical columns\n",
    "plt.figure(figsize=(15, 10))\n",
    "for i, column in enumerate(numerical_cols, 1):\n",
    "    plt.subplot(3, 1, i)\n",
    "    \n",
    "    # log scale\n",
    "    sns.histplot(data=covid_data, x=column, kde=True, log_scale=True)\n",
    "    \n",
    "    # Thêm thông tin thống kê\n",
    "    mean_val = covid_data[column].mean()\n",
    "    median_val = covid_data[column].median()\n",
    "    plt.axvline(mean_val, color='r', linestyle='--', label=f'Mean: {mean_val:.0f}')\n",
    "    plt.axvline(median_val, color='g', linestyle='--', label=f'Median: {median_val:.0f}')\n",
    "    \n",
    "    plt.title(f'Phân phối của cột {column}')\n",
    "    plt.xlabel(f'{column}')\n",
    "    plt.ylabel('Số lượng')\n",
    "    plt.legend()\n",
    "\n",
    "plt.tight_layout()\n",
    "plt.show()\n"
   ]
  },
  {
   "cell_type": "markdown",
   "metadata": {},
   "source": [
    "***Nhận xét:*** \n",
    "- Cả 3 biểu đồ đều có khá nhiều giá trị nằm trên tứ phân vị thứ ba, phản ánh các ngày có số ca mắc COVID-19, số lượng lớn người hồi phục, hoặc số ca tử vong tăng đột biến.\n",
    "\n",
    "- Các giá trị outliers trong trường hợp này **không** phải là nhiễu mà là dữ liệu có ý nghĩa. Do đó **không** cần loại bỏ các giá trị này."
   ]
  },
  {
   "cell_type": "code",
   "execution_count": null,
   "metadata": {},
   "outputs": [],
   "source": [
    "# Extract week number and year\n",
    "covid_data['Week'] = covid_data['ObservationDate'].dt.strftime('%Y-%U')\n",
    "\n",
    "# Group by country and week to get weekly cases\n",
    "country_week = covid_data.groupby(['Country/Region', 'Week'])['Confirmed'].sum().unstack()\n",
    "\n",
    "# Get top 50 countries by total cases\n",
    "top_countries = covid_data.groupby('Country/Region')['Confirmed'].sum().sort_values(ascending=False).head(50).index\n",
    "country_week = country_week.loc[top_countries]\n",
    "\n",
    "# Apply log transformation (adding 1 to avoid log(0))\n",
    "log_country_week = np.log2(country_week + 1)\n",
    "\n",
    "# Create the heatmap with log scale\n",
    "plt.figure(figsize=(20, 15))\n",
    "ax = sns.heatmap(log_country_week, cmap='YlOrRd', linewidths=0.5, annot=False)\n",
    "\n",
    "# Customize colorbar to show original values\n",
    "cbar = ax.collections[0].colorbar\n",
    "tick_locs = np.arange(0, np.log2(country_week.max().max() + 1))\n",
    "cbar.set_ticks(tick_locs)\n",
    "cbar.set_ticklabels([f\"10^{int(x)}\" if x >= 1 else f\"{int(10**x)}\" for x in tick_locs])\n",
    "\n",
    "plt.title('COVID-19 Cases Heatmap (Log10 Scale, Top 50 Countries)', fontsize=16)\n",
    "plt.xlabel('Week of Observation', fontsize=12)\n",
    "plt.ylabel('Country/Region', fontsize=12)\n",
    "plt.xticks(rotation=90)\n",
    "plt.tight_layout()\n",
    "plt.show()"
   ]
  },
  {
   "cell_type": "markdown",
   "metadata": {},
   "source": [
    "### Dữ liệu sau khi đã làm sạch"
   ]
  },
  {
   "cell_type": "code",
   "execution_count": null,
   "metadata": {},
   "outputs": [],
   "source": [
    "country_stats = covid_data.groupby('Country/Region').agg(\n",
    "    Total_Confirmed=('Confirmed', 'sum'),\n",
    "    Total_Deaths=('Deaths', 'sum'),\n",
    "    Total_Recovered=('Recovered', 'sum'),\n",
    "    First_Case_Date=('ObservationDate', 'min'),\n",
    "    Last_Case_Date=('ObservationDate', 'max')\n",
    ").sort_values('Total_Confirmed', ascending=False)\n",
    "\n",
    "\n",
    "# Thêm các cột tính toán\n",
    "country_stats['Mortality_Rate'] = country_stats['Total_Deaths'] / country_stats['Total_Confirmed'] * 100\n",
    "country_stats['Recovery_Rate'] = country_stats['Total_Recovered'] / country_stats['Total_Confirmed'] * 100\n",
    "country_stats['Outbreak_Duration'] = (country_stats['Last_Case_Date'] - country_stats['First_Case_Date']).dt.days\n",
    "\n",
    "# Lấy top 50 và hiển thị\n",
    "top_50 = country_stats.head(50)\n",
    "pd.set_option('display.max_rows', 50)\n",
    "print(top_50[['Total_Confirmed', 'Total_Deaths', 'Total_Recovered', \n",
    "              'Mortality_Rate', 'Recovery_Rate', 'Outbreak_Duration']])"
   ]
  },
  {
   "cell_type": "markdown",
   "metadata": {},
   "source": [
    "### Lưu dữ liệu lại và covide_data_cleaned.csv"
   ]
  },
  {
   "cell_type": "code",
   "execution_count": null,
   "metadata": {},
   "outputs": [],
   "source": [
    "#save cleaned data\n",
    "covid_data.to_csv(os.path.join(PROCESSED_DATA_PATH, \"covid_data_cleaned.csv\"), index=False)\n",
    "print(\"Data saved!\")\n",
    "print(covid_data.head(5))"
   ]
  }
 ],
 "metadata": {
  "kernelspec": {
   "display_name": "my_python_env",
   "language": "python",
   "name": "python3"
  },
  "language_info": {
   "codemirror_mode": {
    "name": "ipython",
    "version": 3
   },
   "file_extension": ".py",
   "mimetype": "text/x-python",
   "name": "python",
   "nbconvert_exporter": "python",
   "pygments_lexer": "ipython3",
   "version": "3.10.15"
  }
 },
 "nbformat": 4,
 "nbformat_minor": 2
}
