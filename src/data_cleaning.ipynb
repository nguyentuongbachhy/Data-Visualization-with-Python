{
 "cells": [
  {
   "cell_type": "code",
   "execution_count": 3,
   "metadata": {},
   "outputs": [],
   "source": [
    "import pandas as pd\n",
    "import numpy as np\n",
    "import os\n",
    "import re\n",
    "import matplotlib.pyplot as plt\n",
    "import seaborn as sns\n",
    "from datetime import datetime\n",
    "from dateutil import parser\n",
    "\n",
    "RAW_DATA_PATH = r\"../data/raw\"\n",
    "PROCESSED_DATA_PATH = r\"../data/processed\""
   ]
  },
  {
   "cell_type": "code",
   "execution_count": 4,
   "metadata": {},
   "outputs": [],
   "source": [
    "plt.style.use(\"seaborn-v0_8-whitegrid\")\n",
    "sns.set_palette(\"Set2\")\n",
    "plt.rcParams[\"figure.figsize\"] = (12, 8)\n",
    "plt.rcParams[\"font.size\"] = 12\n",
    "\n",
    "pd.set_option(\"display.max_columns\", None)"
   ]
  },
  {
   "cell_type": "code",
   "execution_count": 5,
   "metadata": {},
   "outputs": [],
   "source": [
    "covid_data = pd.read_csv(os.path.join(RAW_DATA_PATH, \"covid_19_data.csv\"))"
   ]
  },
  {
   "cell_type": "markdown",
   "metadata": {},
   "source": [
    "Kiểm tra lại bảng dữ liệu"
   ]
  },
  {
   "cell_type": "code",
   "execution_count": 6,
   "metadata": {},
   "outputs": [
    {
     "data": {
      "text/html": [
       "<div>\n",
       "<style scoped>\n",
       "    .dataframe tbody tr th:only-of-type {\n",
       "        vertical-align: middle;\n",
       "    }\n",
       "\n",
       "    .dataframe tbody tr th {\n",
       "        vertical-align: top;\n",
       "    }\n",
       "\n",
       "    .dataframe thead th {\n",
       "        text-align: right;\n",
       "    }\n",
       "</style>\n",
       "<table border=\"1\" class=\"dataframe\">\n",
       "  <thead>\n",
       "    <tr style=\"text-align: right;\">\n",
       "      <th></th>\n",
       "      <th>SNo</th>\n",
       "      <th>ObservationDate</th>\n",
       "      <th>Province/State</th>\n",
       "      <th>Country/Region</th>\n",
       "      <th>Last Update</th>\n",
       "      <th>Confirmed</th>\n",
       "      <th>Deaths</th>\n",
       "      <th>Recovered</th>\n",
       "    </tr>\n",
       "  </thead>\n",
       "  <tbody>\n",
       "    <tr>\n",
       "      <th>0</th>\n",
       "      <td>1</td>\n",
       "      <td>01/22/2020</td>\n",
       "      <td>Anhui</td>\n",
       "      <td>Mainland China</td>\n",
       "      <td>1/22/2020 17:00</td>\n",
       "      <td>1.0</td>\n",
       "      <td>0.0</td>\n",
       "      <td>0.0</td>\n",
       "    </tr>\n",
       "    <tr>\n",
       "      <th>1</th>\n",
       "      <td>2</td>\n",
       "      <td>01/22/2020</td>\n",
       "      <td>Beijing</td>\n",
       "      <td>Mainland China</td>\n",
       "      <td>1/22/2020 17:00</td>\n",
       "      <td>14.0</td>\n",
       "      <td>0.0</td>\n",
       "      <td>0.0</td>\n",
       "    </tr>\n",
       "    <tr>\n",
       "      <th>2</th>\n",
       "      <td>3</td>\n",
       "      <td>01/22/2020</td>\n",
       "      <td>Chongqing</td>\n",
       "      <td>Mainland China</td>\n",
       "      <td>1/22/2020 17:00</td>\n",
       "      <td>6.0</td>\n",
       "      <td>0.0</td>\n",
       "      <td>0.0</td>\n",
       "    </tr>\n",
       "    <tr>\n",
       "      <th>3</th>\n",
       "      <td>4</td>\n",
       "      <td>01/22/2020</td>\n",
       "      <td>Fujian</td>\n",
       "      <td>Mainland China</td>\n",
       "      <td>1/22/2020 17:00</td>\n",
       "      <td>1.0</td>\n",
       "      <td>0.0</td>\n",
       "      <td>0.0</td>\n",
       "    </tr>\n",
       "    <tr>\n",
       "      <th>4</th>\n",
       "      <td>5</td>\n",
       "      <td>01/22/2020</td>\n",
       "      <td>Gansu</td>\n",
       "      <td>Mainland China</td>\n",
       "      <td>1/22/2020 17:00</td>\n",
       "      <td>0.0</td>\n",
       "      <td>0.0</td>\n",
       "      <td>0.0</td>\n",
       "    </tr>\n",
       "  </tbody>\n",
       "</table>\n",
       "</div>"
      ],
      "text/plain": [
       "   SNo ObservationDate Province/State  Country/Region      Last Update  \\\n",
       "0    1      01/22/2020          Anhui  Mainland China  1/22/2020 17:00   \n",
       "1    2      01/22/2020        Beijing  Mainland China  1/22/2020 17:00   \n",
       "2    3      01/22/2020      Chongqing  Mainland China  1/22/2020 17:00   \n",
       "3    4      01/22/2020         Fujian  Mainland China  1/22/2020 17:00   \n",
       "4    5      01/22/2020          Gansu  Mainland China  1/22/2020 17:00   \n",
       "\n",
       "   Confirmed  Deaths  Recovered  \n",
       "0        1.0     0.0        0.0  \n",
       "1       14.0     0.0        0.0  \n",
       "2        6.0     0.0        0.0  \n",
       "3        1.0     0.0        0.0  \n",
       "4        0.0     0.0        0.0  "
      ]
     },
     "execution_count": 6,
     "metadata": {},
     "output_type": "execute_result"
    }
   ],
   "source": [
    "covid_data.head(5)"
   ]
  },
  {
   "cell_type": "markdown",
   "metadata": {},
   "source": [
    "***Làm sạch cột ObservationDate và Last Update.***  \n",
    "\n",
    "Vấn đề: Dữ liệu trong cột ObservationDate và Last Update là kiểu string, các giá trị không có sự thống nhất về định dạng để chuyển đổi sang datetime bằng phương pháp thủ công.  \n",
    "Giải quyết: Dùng hàm parser.parse() từ thư viện dateutil.  \n",
    "- Hàm parse() tự động chuyển đổi các giá trị có kiểu string về datetime nếu string đủ thông tin về thời gian.  \n",
    "- Các giá trị không thể chuyển đổi sẽ gán dưới dạng pd.NaT (Not A Time) để kiểm tra.  "
   ]
  },
  {
   "cell_type": "code",
   "execution_count": 7,
   "metadata": {},
   "outputs": [],
   "source": [
    "#Hàm chuyển đổi string về datetime\n",
    "def safe_parse(date_str): \n",
    "    try:\n",
    "        # Sử dụng parser của dateutil để chuyển đổi\n",
    "        return parser.parse(date_str, dayfirst=True)  # dayfirst=True ưu tiên định dạng DD/MM/YYYY\n",
    "    except (ValueError, TypeError):\n",
    "        # Nếu không chuyển đổi được, trả về NaT (Not a Time)\n",
    "        return pd.NaT"
   ]
  },
  {
   "cell_type": "code",
   "execution_count": 8,
   "metadata": {},
   "outputs": [],
   "source": [
    "#Chuyển đổi 2 cột ObservationDate và Last Update về datetime\n",
    "covid_data['ObservationDate'] = covid_data['ObservationDate'].apply(safe_parse)\n",
    "covid_data['Last Update'] = covid_data['Last Update'].apply(safe_parse)"
   ]
  },
  {
   "cell_type": "code",
   "execution_count": 9,
   "metadata": {},
   "outputs": [
    {
     "name": "stdout",
     "output_type": "stream",
     "text": [
      "False\n",
      "False\n"
     ]
    }
   ],
   "source": [
    "#Kiểm tra có giá trị nào không chuyển đổi thành công hay không\n",
    "print(covid_data['ObservationDate'].isna().any())\n",
    "print(covid_data['Last Update'].isna().any())"
   ]
  },
  {
   "cell_type": "markdown",
   "metadata": {},
   "source": [
    "Kết quả: Không có dữ liệu lỗi, tất cả đã được chuyển thành công"
   ]
  },
  {
   "cell_type": "markdown",
   "metadata": {},
   "source": [
    "#### Kiểm tra các giá trị null trong dữ liệu và fill các giá trị null"
   ]
  },
  {
   "cell_type": "markdown",
   "metadata": {},
   "source": [
    "***Kiểm tra từng cột trong bảng có giá trị null hay không***"
   ]
  },
  {
   "cell_type": "code",
   "execution_count": 10,
   "metadata": {},
   "outputs": [
    {
     "data": {
      "text/plain": [
       "SNo                    0\n",
       "ObservationDate        0\n",
       "Province/State     78103\n",
       "Country/Region         0\n",
       "Last Update            0\n",
       "Confirmed              0\n",
       "Deaths                 0\n",
       "Recovered              0\n",
       "dtype: int64"
      ]
     },
     "execution_count": 10,
     "metadata": {},
     "output_type": "execute_result"
    }
   ],
   "source": [
    "covid_data.isnull().sum()"
   ]
  },
  {
   "cell_type": "markdown",
   "metadata": {},
   "source": [
    "Ta thấy chỉ có cột Province/State có giá trị null"
   ]
  },
  {
   "cell_type": "code",
   "execution_count": 11,
   "metadata": {},
   "outputs": [
    {
     "data": {
      "text/html": [
       "<div>\n",
       "<style scoped>\n",
       "    .dataframe tbody tr th:only-of-type {\n",
       "        vertical-align: middle;\n",
       "    }\n",
       "\n",
       "    .dataframe tbody tr th {\n",
       "        vertical-align: top;\n",
       "    }\n",
       "\n",
       "    .dataframe thead th {\n",
       "        text-align: right;\n",
       "    }\n",
       "</style>\n",
       "<table border=\"1\" class=\"dataframe\">\n",
       "  <thead>\n",
       "    <tr style=\"text-align: right;\">\n",
       "      <th></th>\n",
       "      <th>SNo</th>\n",
       "      <th>ObservationDate</th>\n",
       "      <th>Province/State</th>\n",
       "      <th>Country/Region</th>\n",
       "      <th>Last Update</th>\n",
       "      <th>Confirmed</th>\n",
       "      <th>Deaths</th>\n",
       "      <th>Recovered</th>\n",
       "    </tr>\n",
       "  </thead>\n",
       "  <tbody>\n",
       "    <tr>\n",
       "      <th>35</th>\n",
       "      <td>36</td>\n",
       "      <td>2020-01-22</td>\n",
       "      <td>NaN</td>\n",
       "      <td>Japan</td>\n",
       "      <td>2020-01-22 17:00:00</td>\n",
       "      <td>2.0</td>\n",
       "      <td>0.0</td>\n",
       "      <td>0.0</td>\n",
       "    </tr>\n",
       "    <tr>\n",
       "      <th>36</th>\n",
       "      <td>37</td>\n",
       "      <td>2020-01-22</td>\n",
       "      <td>NaN</td>\n",
       "      <td>Thailand</td>\n",
       "      <td>2020-01-22 17:00:00</td>\n",
       "      <td>4.0</td>\n",
       "      <td>0.0</td>\n",
       "      <td>2.0</td>\n",
       "    </tr>\n",
       "    <tr>\n",
       "      <th>37</th>\n",
       "      <td>38</td>\n",
       "      <td>2020-01-22</td>\n",
       "      <td>NaN</td>\n",
       "      <td>South Korea</td>\n",
       "      <td>2020-01-22 17:00:00</td>\n",
       "      <td>1.0</td>\n",
       "      <td>0.0</td>\n",
       "      <td>0.0</td>\n",
       "    </tr>\n",
       "    <tr>\n",
       "      <th>39</th>\n",
       "      <td>40</td>\n",
       "      <td>2020-01-22</td>\n",
       "      <td>NaN</td>\n",
       "      <td>Kiribati</td>\n",
       "      <td>2020-01-22 17:00:00</td>\n",
       "      <td>0.0</td>\n",
       "      <td>0.0</td>\n",
       "      <td>0.0</td>\n",
       "    </tr>\n",
       "    <tr>\n",
       "      <th>75</th>\n",
       "      <td>76</td>\n",
       "      <td>2020-01-23</td>\n",
       "      <td>NaN</td>\n",
       "      <td>Japan</td>\n",
       "      <td>2020-01-23 17:00:00</td>\n",
       "      <td>1.0</td>\n",
       "      <td>0.0</td>\n",
       "      <td>0.0</td>\n",
       "    </tr>\n",
       "    <tr>\n",
       "      <th>...</th>\n",
       "      <td>...</td>\n",
       "      <td>...</td>\n",
       "      <td>...</td>\n",
       "      <td>...</td>\n",
       "      <td>...</td>\n",
       "      <td>...</td>\n",
       "      <td>...</td>\n",
       "      <td>...</td>\n",
       "    </tr>\n",
       "    <tr>\n",
       "      <th>305831</th>\n",
       "      <td>305832</td>\n",
       "      <td>2021-05-29</td>\n",
       "      <td>NaN</td>\n",
       "      <td>Vietnam</td>\n",
       "      <td>2021-05-30 04:20:55</td>\n",
       "      <td>6908.0</td>\n",
       "      <td>47.0</td>\n",
       "      <td>2896.0</td>\n",
       "    </tr>\n",
       "    <tr>\n",
       "      <th>305832</th>\n",
       "      <td>305833</td>\n",
       "      <td>2021-05-29</td>\n",
       "      <td>NaN</td>\n",
       "      <td>West Bank and Gaza</td>\n",
       "      <td>2021-05-30 04:20:55</td>\n",
       "      <td>307838.0</td>\n",
       "      <td>3492.0</td>\n",
       "      <td>300524.0</td>\n",
       "    </tr>\n",
       "    <tr>\n",
       "      <th>305833</th>\n",
       "      <td>305834</td>\n",
       "      <td>2021-05-29</td>\n",
       "      <td>NaN</td>\n",
       "      <td>Yemen</td>\n",
       "      <td>2021-05-30 04:20:55</td>\n",
       "      <td>6731.0</td>\n",
       "      <td>1319.0</td>\n",
       "      <td>3399.0</td>\n",
       "    </tr>\n",
       "    <tr>\n",
       "      <th>305834</th>\n",
       "      <td>305835</td>\n",
       "      <td>2021-05-29</td>\n",
       "      <td>NaN</td>\n",
       "      <td>Zambia</td>\n",
       "      <td>2021-05-30 04:20:55</td>\n",
       "      <td>94751.0</td>\n",
       "      <td>1276.0</td>\n",
       "      <td>91594.0</td>\n",
       "    </tr>\n",
       "    <tr>\n",
       "      <th>305835</th>\n",
       "      <td>305836</td>\n",
       "      <td>2021-05-29</td>\n",
       "      <td>NaN</td>\n",
       "      <td>Zimbabwe</td>\n",
       "      <td>2021-05-30 04:20:55</td>\n",
       "      <td>38933.0</td>\n",
       "      <td>1594.0</td>\n",
       "      <td>36578.0</td>\n",
       "    </tr>\n",
       "  </tbody>\n",
       "</table>\n",
       "<p>78103 rows × 8 columns</p>\n",
       "</div>"
      ],
      "text/plain": [
       "           SNo ObservationDate Province/State      Country/Region  \\\n",
       "35          36      2020-01-22            NaN               Japan   \n",
       "36          37      2020-01-22            NaN            Thailand   \n",
       "37          38      2020-01-22            NaN         South Korea   \n",
       "39          40      2020-01-22            NaN            Kiribati   \n",
       "75          76      2020-01-23            NaN               Japan   \n",
       "...        ...             ...            ...                 ...   \n",
       "305831  305832      2021-05-29            NaN             Vietnam   \n",
       "305832  305833      2021-05-29            NaN  West Bank and Gaza   \n",
       "305833  305834      2021-05-29            NaN               Yemen   \n",
       "305834  305835      2021-05-29            NaN              Zambia   \n",
       "305835  305836      2021-05-29            NaN            Zimbabwe   \n",
       "\n",
       "               Last Update  Confirmed  Deaths  Recovered  \n",
       "35     2020-01-22 17:00:00        2.0     0.0        0.0  \n",
       "36     2020-01-22 17:00:00        4.0     0.0        2.0  \n",
       "37     2020-01-22 17:00:00        1.0     0.0        0.0  \n",
       "39     2020-01-22 17:00:00        0.0     0.0        0.0  \n",
       "75     2020-01-23 17:00:00        1.0     0.0        0.0  \n",
       "...                    ...        ...     ...        ...  \n",
       "305831 2021-05-30 04:20:55     6908.0    47.0     2896.0  \n",
       "305832 2021-05-30 04:20:55   307838.0  3492.0   300524.0  \n",
       "305833 2021-05-30 04:20:55     6731.0  1319.0     3399.0  \n",
       "305834 2021-05-30 04:20:55    94751.0  1276.0    91594.0  \n",
       "305835 2021-05-30 04:20:55    38933.0  1594.0    36578.0  \n",
       "\n",
       "[78103 rows x 8 columns]"
      ]
     },
     "execution_count": 11,
     "metadata": {},
     "output_type": "execute_result"
    }
   ],
   "source": [
    "covid_data[covid_data[\"Province/State\"].isnull()]"
   ]
  },
  {
   "cell_type": "markdown",
   "metadata": {},
   "source": [
    "Kiểm tra các giá trị của Province/State của một quốc gia ngẫu nhiên để tìm cách fill các giá trị null"
   ]
  },
  {
   "cell_type": "code",
   "execution_count": 12,
   "metadata": {},
   "outputs": [
    {
     "data": {
      "text/plain": [
       "array([nan, 'Aichi', 'Akita', 'Aomori', 'Chiba', 'Ehime', 'Fukui',\n",
       "       'Fukuoka', 'Fukushima', 'Gifu', 'Gunma', 'Hiroshima', 'Hokkaido',\n",
       "       'Hyogo', 'Ibaraki', 'Ishikawa', 'Kagawa', 'Kagoshima', 'Kanagawa',\n",
       "       'Kochi', 'Kumamoto', 'Kyoto', 'Mie', 'Miyagi', 'Miyazaki',\n",
       "       'Nagano', 'Nagasaki', 'Nara', 'Niigata', 'Oita', 'Okayama',\n",
       "       'Okinawa', 'Osaka', 'Port Quarantine', 'Saga', 'Saitama', 'Shiga',\n",
       "       'Shimane', 'Shizuoka', 'Tochigi', 'Tokushima', 'Tokyo', 'Tottori',\n",
       "       'Toyama', 'Unknown', 'Wakayama', 'Yamagata', 'Yamaguchi',\n",
       "       'Yamanashi', 'Iwate'], dtype=object)"
      ]
     },
     "execution_count": 12,
     "metadata": {},
     "output_type": "execute_result"
    }
   ],
   "source": [
    "covid_data[covid_data[\"Country/Region\"] == \"Japan\"][\"Province/State\"].unique()"
   ]
  },
  {
   "cell_type": "markdown",
   "metadata": {},
   "source": [
    "Ta thấy ở Nhật Bản có sử dụng Unknown có các giá trị bị mất\\\n",
    "=> Ta có thể sử dụng Unkwown cho các giá trị null"
   ]
  },
  {
   "cell_type": "code",
   "execution_count": 13,
   "metadata": {},
   "outputs": [],
   "source": [
    "covid_data.fillna({\"Province/State\": \"Unknown\"}, inplace=True)"
   ]
  },
  {
   "cell_type": "markdown",
   "metadata": {},
   "source": [
    "Kiểm tra lại dataframe"
   ]
  },
  {
   "cell_type": "code",
   "execution_count": 14,
   "metadata": {},
   "outputs": [
    {
     "name": "stdout",
     "output_type": "stream",
     "text": [
      "<class 'pandas.core.frame.DataFrame'>\n",
      "RangeIndex: 306429 entries, 0 to 306428\n",
      "Data columns (total 8 columns):\n",
      " #   Column           Non-Null Count   Dtype         \n",
      "---  ------           --------------   -----         \n",
      " 0   SNo              306429 non-null  int64         \n",
      " 1   ObservationDate  306429 non-null  datetime64[ns]\n",
      " 2   Province/State   306429 non-null  object        \n",
      " 3   Country/Region   306429 non-null  object        \n",
      " 4   Last Update      306429 non-null  datetime64[ns]\n",
      " 5   Confirmed        306429 non-null  float64       \n",
      " 6   Deaths           306429 non-null  float64       \n",
      " 7   Recovered        306429 non-null  float64       \n",
      "dtypes: datetime64[ns](2), float64(3), int64(1), object(2)\n",
      "memory usage: 18.7+ MB\n"
     ]
    }
   ],
   "source": [
    "covid_data.info()"
   ]
  },
  {
   "cell_type": "markdown",
   "metadata": {},
   "source": [
    "  Với các cột Confirmed, Deaths, Recovered. Ta có thể chuyển sang kiểu dữ liệu int cho phù hợp"
   ]
  },
  {
   "cell_type": "code",
   "execution_count": 15,
   "metadata": {},
   "outputs": [],
   "source": [
    "# change type of Confirmed, Deaths, Recovered to int\n",
    "covid_data[\"Confirmed\"] = covid_data[\"Confirmed\"].astype(int)\n",
    "covid_data[\"Deaths\"] = covid_data[\"Deaths\"].astype(int)\n",
    "covid_data[\"Recovered\"] = covid_data[\"Recovered\"].astype(int)"
   ]
  },
  {
   "cell_type": "code",
   "execution_count": 16,
   "metadata": {},
   "outputs": [],
   "source": [
    "df = covid_data.groupby(\"Country/Region\").count()"
   ]
  },
  {
   "cell_type": "code",
   "execution_count": 17,
   "metadata": {},
   "outputs": [],
   "source": [
    "df = df.reset_index()"
   ]
  },
  {
   "cell_type": "code",
   "execution_count": 18,
   "metadata": {},
   "outputs": [
    {
     "data": {
      "text/html": [
       "<div>\n",
       "<style scoped>\n",
       "    .dataframe tbody tr th:only-of-type {\n",
       "        vertical-align: middle;\n",
       "    }\n",
       "\n",
       "    .dataframe tbody tr th {\n",
       "        vertical-align: top;\n",
       "    }\n",
       "\n",
       "    .dataframe thead th {\n",
       "        text-align: right;\n",
       "    }\n",
       "</style>\n",
       "<table border=\"1\" class=\"dataframe\">\n",
       "  <thead>\n",
       "    <tr style=\"text-align: right;\">\n",
       "      <th></th>\n",
       "      <th>Country/Region</th>\n",
       "      <th>SNo</th>\n",
       "      <th>ObservationDate</th>\n",
       "      <th>Province/State</th>\n",
       "      <th>Last Update</th>\n",
       "      <th>Confirmed</th>\n",
       "      <th>Deaths</th>\n",
       "      <th>Recovered</th>\n",
       "    </tr>\n",
       "  </thead>\n",
       "  <tbody>\n",
       "    <tr>\n",
       "      <th>0</th>\n",
       "      <td>Azerbaijan</td>\n",
       "      <td>1</td>\n",
       "      <td>1</td>\n",
       "      <td>1</td>\n",
       "      <td>1</td>\n",
       "      <td>1</td>\n",
       "      <td>1</td>\n",
       "      <td>1</td>\n",
       "    </tr>\n",
       "    <tr>\n",
       "      <th>1</th>\n",
       "      <td>('St. Martin',)</td>\n",
       "      <td>1</td>\n",
       "      <td>1</td>\n",
       "      <td>1</td>\n",
       "      <td>1</td>\n",
       "      <td>1</td>\n",
       "      <td>1</td>\n",
       "      <td>1</td>\n",
       "    </tr>\n",
       "    <tr>\n",
       "      <th>2</th>\n",
       "      <td>Afghanistan</td>\n",
       "      <td>461</td>\n",
       "      <td>461</td>\n",
       "      <td>461</td>\n",
       "      <td>461</td>\n",
       "      <td>461</td>\n",
       "      <td>461</td>\n",
       "      <td>461</td>\n",
       "    </tr>\n",
       "    <tr>\n",
       "      <th>3</th>\n",
       "      <td>Albania</td>\n",
       "      <td>447</td>\n",
       "      <td>447</td>\n",
       "      <td>447</td>\n",
       "      <td>447</td>\n",
       "      <td>447</td>\n",
       "      <td>447</td>\n",
       "      <td>447</td>\n",
       "    </tr>\n",
       "    <tr>\n",
       "      <th>4</th>\n",
       "      <td>Algeria</td>\n",
       "      <td>460</td>\n",
       "      <td>460</td>\n",
       "      <td>460</td>\n",
       "      <td>460</td>\n",
       "      <td>460</td>\n",
       "      <td>460</td>\n",
       "      <td>460</td>\n",
       "    </tr>\n",
       "    <tr>\n",
       "      <th>...</th>\n",
       "      <td>...</td>\n",
       "      <td>...</td>\n",
       "      <td>...</td>\n",
       "      <td>...</td>\n",
       "      <td>...</td>\n",
       "      <td>...</td>\n",
       "      <td>...</td>\n",
       "      <td>...</td>\n",
       "    </tr>\n",
       "    <tr>\n",
       "      <th>224</th>\n",
       "      <td>West Bank and Gaza</td>\n",
       "      <td>430</td>\n",
       "      <td>430</td>\n",
       "      <td>430</td>\n",
       "      <td>430</td>\n",
       "      <td>430</td>\n",
       "      <td>430</td>\n",
       "      <td>430</td>\n",
       "    </tr>\n",
       "    <tr>\n",
       "      <th>225</th>\n",
       "      <td>Yemen</td>\n",
       "      <td>415</td>\n",
       "      <td>415</td>\n",
       "      <td>415</td>\n",
       "      <td>415</td>\n",
       "      <td>415</td>\n",
       "      <td>415</td>\n",
       "      <td>415</td>\n",
       "    </tr>\n",
       "    <tr>\n",
       "      <th>226</th>\n",
       "      <td>Zambia</td>\n",
       "      <td>438</td>\n",
       "      <td>438</td>\n",
       "      <td>438</td>\n",
       "      <td>438</td>\n",
       "      <td>438</td>\n",
       "      <td>438</td>\n",
       "      <td>438</td>\n",
       "    </tr>\n",
       "    <tr>\n",
       "      <th>227</th>\n",
       "      <td>Zimbabwe</td>\n",
       "      <td>436</td>\n",
       "      <td>436</td>\n",
       "      <td>436</td>\n",
       "      <td>436</td>\n",
       "      <td>436</td>\n",
       "      <td>436</td>\n",
       "      <td>436</td>\n",
       "    </tr>\n",
       "    <tr>\n",
       "      <th>228</th>\n",
       "      <td>occupied Palestinian territory</td>\n",
       "      <td>7</td>\n",
       "      <td>7</td>\n",
       "      <td>7</td>\n",
       "      <td>7</td>\n",
       "      <td>7</td>\n",
       "      <td>7</td>\n",
       "      <td>7</td>\n",
       "    </tr>\n",
       "  </tbody>\n",
       "</table>\n",
       "<p>229 rows × 8 columns</p>\n",
       "</div>"
      ],
      "text/plain": [
       "                     Country/Region  SNo  ObservationDate  Province/State  \\\n",
       "0                        Azerbaijan    1                1               1   \n",
       "1                   ('St. Martin',)    1                1               1   \n",
       "2                       Afghanistan  461              461             461   \n",
       "3                           Albania  447              447             447   \n",
       "4                           Algeria  460              460             460   \n",
       "..                              ...  ...              ...             ...   \n",
       "224              West Bank and Gaza  430              430             430   \n",
       "225                           Yemen  415              415             415   \n",
       "226                          Zambia  438              438             438   \n",
       "227                        Zimbabwe  436              436             436   \n",
       "228  occupied Palestinian territory    7                7               7   \n",
       "\n",
       "     Last Update  Confirmed  Deaths  Recovered  \n",
       "0              1          1       1          1  \n",
       "1              1          1       1          1  \n",
       "2            461        461     461        461  \n",
       "3            447        447     447        447  \n",
       "4            460        460     460        460  \n",
       "..           ...        ...     ...        ...  \n",
       "224          430        430     430        430  \n",
       "225          415        415     415        415  \n",
       "226          438        438     438        438  \n",
       "227          436        436     436        436  \n",
       "228            7          7       7          7  \n",
       "\n",
       "[229 rows x 8 columns]"
      ]
     },
     "execution_count": 18,
     "metadata": {},
     "output_type": "execute_result"
    }
   ],
   "source": [
    "df"
   ]
  },
  {
   "cell_type": "code",
   "execution_count": 19,
   "metadata": {},
   "outputs": [
    {
     "name": "stdout",
     "output_type": "stream",
     "text": [
      "   Country/Region  SNo  ObservationDate  Province/State  Last Update  \\\n",
      "13     Azerbaijan  455              455             455          455   \n",
      "\n",
      "    Confirmed  Deaths  Recovered  \n",
      "13        455     455        455  \n"
     ]
    }
   ],
   "source": [
    "print(df[df[\"Country/Region\"]==\"Azerbaijan\"])"
   ]
  },
  {
   "cell_type": "code",
   "execution_count": 20,
   "metadata": {},
   "outputs": [
    {
     "data": {
      "text/html": [
       "<div>\n",
       "<style scoped>\n",
       "    .dataframe tbody tr th:only-of-type {\n",
       "        vertical-align: middle;\n",
       "    }\n",
       "\n",
       "    .dataframe tbody tr th {\n",
       "        vertical-align: top;\n",
       "    }\n",
       "\n",
       "    .dataframe thead th {\n",
       "        text-align: right;\n",
       "    }\n",
       "</style>\n",
       "<table border=\"1\" class=\"dataframe\">\n",
       "  <thead>\n",
       "    <tr style=\"text-align: right;\">\n",
       "      <th></th>\n",
       "      <th>SNo</th>\n",
       "      <th>ObservationDate</th>\n",
       "      <th>Province/State</th>\n",
       "      <th>Last Update</th>\n",
       "      <th>Confirmed</th>\n",
       "      <th>Deaths</th>\n",
       "      <th>Recovered</th>\n",
       "    </tr>\n",
       "    <tr>\n",
       "      <th>Country/Region</th>\n",
       "      <th></th>\n",
       "      <th></th>\n",
       "      <th></th>\n",
       "      <th></th>\n",
       "      <th></th>\n",
       "      <th></th>\n",
       "      <th></th>\n",
       "    </tr>\n",
       "  </thead>\n",
       "  <tbody>\n",
       "    <tr>\n",
       "      <th>Azerbaijan</th>\n",
       "      <td>455</td>\n",
       "      <td>455</td>\n",
       "      <td>455</td>\n",
       "      <td>455</td>\n",
       "      <td>455</td>\n",
       "      <td>455</td>\n",
       "      <td>455</td>\n",
       "    </tr>\n",
       "  </tbody>\n",
       "</table>\n",
       "</div>"
      ],
      "text/plain": [
       "                SNo  ObservationDate  Province/State  Last Update  Confirmed  \\\n",
       "Country/Region                                                                 \n",
       "Azerbaijan      455              455             455          455        455   \n",
       "\n",
       "                Deaths  Recovered  \n",
       "Country/Region                     \n",
       "Azerbaijan         455        455  "
      ]
     },
     "execution_count": 20,
     "metadata": {},
     "output_type": "execute_result"
    }
   ],
   "source": [
    "covid_data[covid_data[\"Country/Region\"]==\"Azerbaijan\"].groupby(\"Country/Region\").count()"
   ]
  },
  {
   "cell_type": "code",
   "execution_count": 21,
   "metadata": {},
   "outputs": [
    {
     "name": "stdout",
     "output_type": "stream",
     "text": [
      "['Mainland China' 'Hong Kong' 'Macau' 'Taiwan' 'US' 'Japan' 'Thailand'\n",
      " 'South Korea' 'China' 'Kiribati' 'Singapore' 'Philippines' 'Malaysia'\n",
      " 'Vietnam' 'Australia' 'Mexico' 'Brazil' 'Colombia' 'France' 'Nepal'\n",
      " 'Canada' 'Cambodia' 'Sri Lanka' 'Ivory Coast' 'Germany' 'Finland'\n",
      " 'United Arab Emirates' 'India' 'Italy' 'UK' 'Russia' 'Sweden' 'Spain'\n",
      " 'Belgium' 'Others' 'Egypt' 'Iran' 'Israel' 'Lebanon' 'Iraq' 'Oman'\n",
      " 'Afghanistan' 'Bahrain' 'Kuwait' 'Austria' 'Algeria' 'Croatia'\n",
      " 'Switzerland' 'Pakistan' 'Georgia' 'Greece' 'North Macedonia' 'Norway'\n",
      " 'Romania' 'Denmark' 'Estonia' 'Netherlands' 'San Marino' ' Azerbaijan'\n",
      " 'Belarus' 'Iceland' 'Lithuania' 'New Zealand' 'Nigeria' 'North Ireland'\n",
      " 'Ireland' 'Luxembourg' 'Monaco' 'Qatar' 'Ecuador' 'Azerbaijan'\n",
      " 'Czech Republic' 'Armenia' 'Dominican Republic' 'Indonesia' 'Portugal'\n",
      " 'Andorra' 'Latvia' 'Morocco' 'Saudi Arabia' 'Senegal' 'Argentina' 'Chile'\n",
      " 'Jordan' 'Ukraine' 'Saint Barthelemy' 'Hungary' 'Faroe Islands'\n",
      " 'Gibraltar' 'Liechtenstein' 'Poland' 'Tunisia' 'Palestine'\n",
      " 'Bosnia and Herzegovina' 'Slovenia' 'South Africa' 'Bhutan' 'Cameroon'\n",
      " 'Costa Rica' 'Peru' 'Serbia' 'Slovakia' 'Togo' 'Vatican City'\n",
      " 'French Guiana' 'Malta' 'Martinique' 'Republic of Ireland' 'Bulgaria'\n",
      " 'Maldives' 'Bangladesh' 'Moldova' 'Paraguay' 'Albania' 'Cyprus'\n",
      " 'St. Martin' 'Brunei' 'occupied Palestinian territory' \"('St. Martin',)\"\n",
      " 'Burkina Faso' 'Channel Islands' 'Holy See' 'Mongolia' 'Panama' 'Bolivia'\n",
      " 'Honduras' 'Congo (Kinshasa)' 'Jamaica' 'Reunion' 'Turkey' 'Cuba'\n",
      " 'Guyana' 'Kazakhstan' 'Cayman Islands' 'Guadeloupe' 'Ethiopia' 'Sudan'\n",
      " 'Guinea' 'Antigua and Barbuda' 'Aruba' 'Kenya' 'Uruguay' 'Ghana' 'Jersey'\n",
      " 'Namibia' 'Seychelles' 'Trinidad and Tobago' 'Venezuela' 'Curacao'\n",
      " 'Eswatini' 'Gabon' 'Guatemala' 'Guernsey' 'Mauritania' 'Rwanda'\n",
      " 'Saint Lucia' 'Saint Vincent and the Grenadines' 'Suriname' 'Kosovo'\n",
      " 'Central African Republic' 'Congo (Brazzaville)' 'Equatorial Guinea'\n",
      " 'Uzbekistan' 'Guam' 'Puerto Rico' 'Benin' 'Greenland' 'Liberia' 'Mayotte'\n",
      " 'Republic of the Congo' 'Somalia' 'Tanzania' 'The Bahamas' 'Barbados'\n",
      " 'Montenegro' 'The Gambia' 'Kyrgyzstan' 'Mauritius' 'Zambia' 'Djibouti'\n",
      " 'Gambia, The' 'Bahamas, The' 'Chad' 'El Salvador' 'Fiji' 'Nicaragua'\n",
      " 'Madagascar' 'Haiti' 'Angola' 'Cabo Verde' 'Niger' 'Papua New Guinea'\n",
      " 'Zimbabwe' 'Cape Verde' 'East Timor' 'Eritrea' 'Uganda' 'Bahamas'\n",
      " 'Dominica' 'Gambia' 'Grenada' 'Mozambique' 'Samoa' 'Syria' 'Timor-Leste'\n",
      " 'Belize' 'Laos' 'Libya' 'Diamond Princess' 'Guinea-Bissau' 'Mali'\n",
      " 'Saint Kitts and Nevis' 'West Bank and Gaza' 'Burma' 'MS Zaandam'\n",
      " 'Botswana' 'Burundi' 'Sierra Leone' 'Malawi' 'South Sudan'\n",
      " 'Sao Tome and Principe' 'Yemen' 'Comoros' 'Tajikistan' 'Lesotho'\n",
      " 'Solomon Islands' 'Marshall Islands' 'Vanuatu' 'Micronesia']\n"
     ]
    }
   ],
   "source": [
    "print(covid_data[\"Country/Region\"].unique())\n"
   ]
  },
  {
   "cell_type": "code",
   "execution_count": 22,
   "metadata": {},
   "outputs": [
    {
     "name": "stdout",
     "output_type": "stream",
     "text": [
      "Data saved!\n",
      "   SNo ObservationDate Province/State  Country/Region         Last Update  \\\n",
      "0    1      2020-01-22          Anhui  Mainland China 2020-01-22 17:00:00   \n",
      "1    2      2020-01-22        Beijing  Mainland China 2020-01-22 17:00:00   \n",
      "2    3      2020-01-22      Chongqing  Mainland China 2020-01-22 17:00:00   \n",
      "3    4      2020-01-22         Fujian  Mainland China 2020-01-22 17:00:00   \n",
      "4    5      2020-01-22          Gansu  Mainland China 2020-01-22 17:00:00   \n",
      "\n",
      "   Confirmed  Deaths  Recovered  \n",
      "0          1       0          0  \n",
      "1         14       0          0  \n",
      "2          6       0          0  \n",
      "3          1       0          0  \n",
      "4          0       0          0  \n"
     ]
    }
   ],
   "source": [
    "#save cleaned data\n",
    "covid_data.to_csv(os.path.join(PROCESSED_DATA_PATH, \"covid_data_cleaned.csv\"), index=False)\n",
    "print(\"Data saved!\")\n",
    "print(covid_data.head(5))"
   ]
  }
 ],
 "metadata": {
  "kernelspec": {
   "display_name": "my_python_env",
   "language": "python",
   "name": "python3"
  },
  "language_info": {
   "codemirror_mode": {
    "name": "ipython",
    "version": 3
   },
   "file_extension": ".py",
   "mimetype": "text/x-python",
   "name": "python",
   "nbconvert_exporter": "python",
   "pygments_lexer": "ipython3",
   "version": "3.10.15"
  }
 },
 "nbformat": 4,
 "nbformat_minor": 2
}
