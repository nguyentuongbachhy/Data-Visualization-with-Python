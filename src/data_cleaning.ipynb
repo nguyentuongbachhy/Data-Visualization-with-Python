{
 "cells": [
  {
   "cell_type": "code",
   "execution_count": 36,
   "metadata": {},
   "outputs": [],
   "source": [
    "import pandas as pd\n",
    "import numpy as np\n",
    "import os\n",
    "import re\n",
    "import matplotlib.pyplot as plt\n",
    "import seaborn as sns\n",
    "from datetime import datetime\n",
    "from dateutil import parser\n",
    "\n",
    "RAW_DATA_PATH = r\"../data/raw\"\n",
    "PROCESSED_DATA_PATH = r\"../data/processed\""
   ]
  },
  {
   "cell_type": "code",
   "execution_count": 19,
   "metadata": {},
   "outputs": [],
   "source": [
    "plt.style.use(\"seaborn-v0_8-whitegrid\")\n",
    "sns.set_palette(\"Set2\")\n",
    "plt.rcParams[\"figure.figsize\"] = (12, 8)\n",
    "plt.rcParams[\"font.size\"] = 12\n",
    "\n",
    "pd.set_option(\"display.max_columns\", None)"
   ]
  },
  {
   "cell_type": "code",
   "execution_count": 20,
   "metadata": {},
   "outputs": [],
   "source": [
    "covid_data = pd.read_csv(os.path.join(RAW_DATA_PATH, \"covid_19_data.csv\"))"
   ]
  },
  {
   "cell_type": "markdown",
   "metadata": {},
   "source": [
    "Kiểm tra lại bảng dữ liệu"
   ]
  },
  {
   "cell_type": "code",
   "execution_count": 21,
   "metadata": {},
   "outputs": [
    {
     "data": {
      "text/html": [
       "<div>\n",
       "<style scoped>\n",
       "    .dataframe tbody tr th:only-of-type {\n",
       "        vertical-align: middle;\n",
       "    }\n",
       "\n",
       "    .dataframe tbody tr th {\n",
       "        vertical-align: top;\n",
       "    }\n",
       "\n",
       "    .dataframe thead th {\n",
       "        text-align: right;\n",
       "    }\n",
       "</style>\n",
       "<table border=\"1\" class=\"dataframe\">\n",
       "  <thead>\n",
       "    <tr style=\"text-align: right;\">\n",
       "      <th></th>\n",
       "      <th>SNo</th>\n",
       "      <th>ObservationDate</th>\n",
       "      <th>Province/State</th>\n",
       "      <th>Country/Region</th>\n",
       "      <th>Last Update</th>\n",
       "      <th>Confirmed</th>\n",
       "      <th>Deaths</th>\n",
       "      <th>Recovered</th>\n",
       "    </tr>\n",
       "  </thead>\n",
       "  <tbody>\n",
       "    <tr>\n",
       "      <th>0</th>\n",
       "      <td>1</td>\n",
       "      <td>01/22/2020</td>\n",
       "      <td>Anhui</td>\n",
       "      <td>Mainland China</td>\n",
       "      <td>1/22/2020 17:00</td>\n",
       "      <td>1.0</td>\n",
       "      <td>0.0</td>\n",
       "      <td>0.0</td>\n",
       "    </tr>\n",
       "    <tr>\n",
       "      <th>1</th>\n",
       "      <td>2</td>\n",
       "      <td>01/22/2020</td>\n",
       "      <td>Beijing</td>\n",
       "      <td>Mainland China</td>\n",
       "      <td>1/22/2020 17:00</td>\n",
       "      <td>14.0</td>\n",
       "      <td>0.0</td>\n",
       "      <td>0.0</td>\n",
       "    </tr>\n",
       "    <tr>\n",
       "      <th>2</th>\n",
       "      <td>3</td>\n",
       "      <td>01/22/2020</td>\n",
       "      <td>Chongqing</td>\n",
       "      <td>Mainland China</td>\n",
       "      <td>1/22/2020 17:00</td>\n",
       "      <td>6.0</td>\n",
       "      <td>0.0</td>\n",
       "      <td>0.0</td>\n",
       "    </tr>\n",
       "    <tr>\n",
       "      <th>3</th>\n",
       "      <td>4</td>\n",
       "      <td>01/22/2020</td>\n",
       "      <td>Fujian</td>\n",
       "      <td>Mainland China</td>\n",
       "      <td>1/22/2020 17:00</td>\n",
       "      <td>1.0</td>\n",
       "      <td>0.0</td>\n",
       "      <td>0.0</td>\n",
       "    </tr>\n",
       "    <tr>\n",
       "      <th>4</th>\n",
       "      <td>5</td>\n",
       "      <td>01/22/2020</td>\n",
       "      <td>Gansu</td>\n",
       "      <td>Mainland China</td>\n",
       "      <td>1/22/2020 17:00</td>\n",
       "      <td>0.0</td>\n",
       "      <td>0.0</td>\n",
       "      <td>0.0</td>\n",
       "    </tr>\n",
       "  </tbody>\n",
       "</table>\n",
       "</div>"
      ],
      "text/plain": [
       "   SNo ObservationDate Province/State  Country/Region      Last Update  \\\n",
       "0    1      01/22/2020          Anhui  Mainland China  1/22/2020 17:00   \n",
       "1    2      01/22/2020        Beijing  Mainland China  1/22/2020 17:00   \n",
       "2    3      01/22/2020      Chongqing  Mainland China  1/22/2020 17:00   \n",
       "3    4      01/22/2020         Fujian  Mainland China  1/22/2020 17:00   \n",
       "4    5      01/22/2020          Gansu  Mainland China  1/22/2020 17:00   \n",
       "\n",
       "   Confirmed  Deaths  Recovered  \n",
       "0        1.0     0.0        0.0  \n",
       "1       14.0     0.0        0.0  \n",
       "2        6.0     0.0        0.0  \n",
       "3        1.0     0.0        0.0  \n",
       "4        0.0     0.0        0.0  "
      ]
     },
     "execution_count": 21,
     "metadata": {},
     "output_type": "execute_result"
    }
   ],
   "source": [
    "covid_data.head(5)"
   ]
  },
  {
   "cell_type": "code",
   "execution_count": 22,
   "metadata": {},
   "outputs": [
    {
     "name": "stdout",
     "output_type": "stream",
     "text": [
      "<class 'pandas.core.frame.DataFrame'>\n",
      "RangeIndex: 306429 entries, 0 to 306428\n",
      "Data columns (total 8 columns):\n",
      " #   Column           Non-Null Count   Dtype  \n",
      "---  ------           --------------   -----  \n",
      " 0   SNo              306429 non-null  int64  \n",
      " 1   ObservationDate  306429 non-null  object \n",
      " 2   Province/State   228326 non-null  object \n",
      " 3   Country/Region   306429 non-null  object \n",
      " 4   Last Update      306429 non-null  object \n",
      " 5   Confirmed        306429 non-null  float64\n",
      " 6   Deaths           306429 non-null  float64\n",
      " 7   Recovered        306429 non-null  float64\n",
      "dtypes: float64(3), int64(1), object(4)\n",
      "memory usage: 18.7+ MB\n"
     ]
    }
   ],
   "source": [
    "covid_data.info()"
   ]
  },
  {
   "cell_type": "markdown",
   "metadata": {},
   "source": [
    "Với các cột Confirmed, Deaths, Recovered. Ta có thể chuyển sang kiểu dữ liệu int cho phù hợp"
   ]
  },
  {
   "cell_type": "code",
   "execution_count": 23,
   "metadata": {},
   "outputs": [],
   "source": [
    "covid_data[\"Confirmed\"] = covid_data[\"Confirmed\"].astype(int)\n",
    "covid_data[\"Deaths\"] = covid_data[\"Deaths\"].astype(int)\n",
    "covid_data[\"Recovered\"] = covid_data[\"Recovered\"].astype(int)"
   ]
  },
  {
   "cell_type": "markdown",
   "metadata": {},
   "source": [
    "Strip các cột có dữ liệu dạng str để tránh bị lỗi dư dấu cách 2 phía "
   ]
  },
  {
   "cell_type": "code",
   "execution_count": 24,
   "metadata": {},
   "outputs": [],
   "source": [
    "covid_data[\"Country/Region\"] = covid_data[\"Country/Region\"].apply(lambda x: x.strip() if isinstance(x, str) else x)\n",
    "covid_data[\"Province/State\"] = covid_data[\"Province/State\"].apply(lambda x: x.strip() if isinstance(x, str) else x)"
   ]
  },
  {
   "cell_type": "markdown",
   "metadata": {},
   "source": [
    "***Làm sạch cột ObservationDate và Last Update.***  \n",
    "\n",
    "Vấn đề: Dữ liệu trong cột ObservationDate và Last Update là kiểu string, các giá trị không có sự thống nhất về định dạng để chuyển đổi sang datetime bằng phương pháp thủ công.  \n",
    "Giải quyết: Dùng hàm parser.parse() từ thư viện dateutil.  \n",
    "- Hàm parse() tự động chuyển đổi các giá trị có kiểu string về datetime nếu string đủ thông tin về thời gian.  \n",
    "- Các giá trị không thể chuyển đổi sẽ gán dưới dạng pd.NaT (Not A Time) để kiểm tra.  "
   ]
  },
  {
   "cell_type": "code",
   "execution_count": 25,
   "metadata": {},
   "outputs": [],
   "source": [
    "#Hàm chuyển đổi string về datetime\n",
    "def safe_parse(date_str): \n",
    "    try:\n",
    "        # Sử dụng parser của dateutil để chuyển đổi\n",
    "        return parser.parse(date_str, dayfirst=True)  # dayfirst=True ưu tiên định dạng DD/MM/YYYY\n",
    "    except (ValueError, TypeError):\n",
    "        # Nếu không chuyển đổi được, trả về NaT (Not a Time)\n",
    "        return pd.NaT"
   ]
  },
  {
   "cell_type": "code",
   "execution_count": 26,
   "metadata": {},
   "outputs": [],
   "source": [
    "#Chuyển đổi 2 cột ObservationDate và Last Update về datetime\n",
    "covid_data['ObservationDate'] = covid_data['ObservationDate'].apply(safe_parse)\n",
    "covid_data['Last Update'] = covid_data['Last Update'].apply(safe_parse)"
   ]
  },
  {
   "cell_type": "code",
   "execution_count": 27,
   "metadata": {},
   "outputs": [
    {
     "name": "stdout",
     "output_type": "stream",
     "text": [
      "False\n",
      "False\n"
     ]
    }
   ],
   "source": [
    "#Kiểm tra có giá trị nào không chuyển đổi thành công hay không\n",
    "print(covid_data['ObservationDate'].isna().any())\n",
    "print(covid_data['Last Update'].isna().any())"
   ]
  },
  {
   "cell_type": "markdown",
   "metadata": {},
   "source": [
    "Kết quả: Không có dữ liệu lỗi, tất cả đã được chuyển thành công"
   ]
  },
  {
   "cell_type": "markdown",
   "metadata": {},
   "source": [
    "#### Kiểm tra các giá trị null trong dữ liệu và fill các giá trị null"
   ]
  },
  {
   "cell_type": "markdown",
   "metadata": {},
   "source": [
    "***Kiểm tra từng cột trong bảng có giá trị null hay không***"
   ]
  },
  {
   "cell_type": "code",
   "execution_count": 28,
   "metadata": {},
   "outputs": [
    {
     "data": {
      "text/plain": [
       "SNo                    0\n",
       "ObservationDate        0\n",
       "Province/State     78103\n",
       "Country/Region         0\n",
       "Last Update            0\n",
       "Confirmed              0\n",
       "Deaths                 0\n",
       "Recovered              0\n",
       "dtype: int64"
      ]
     },
     "execution_count": 28,
     "metadata": {},
     "output_type": "execute_result"
    }
   ],
   "source": [
    "covid_data.isnull().sum()"
   ]
  },
  {
   "cell_type": "code",
   "execution_count": 29,
   "metadata": {},
   "outputs": [
    {
     "data": {
      "text/html": [
       "<div>\n",
       "<style scoped>\n",
       "    .dataframe tbody tr th:only-of-type {\n",
       "        vertical-align: middle;\n",
       "    }\n",
       "\n",
       "    .dataframe tbody tr th {\n",
       "        vertical-align: top;\n",
       "    }\n",
       "\n",
       "    .dataframe thead th {\n",
       "        text-align: right;\n",
       "    }\n",
       "</style>\n",
       "<table border=\"1\" class=\"dataframe\">\n",
       "  <thead>\n",
       "    <tr style=\"text-align: right;\">\n",
       "      <th></th>\n",
       "      <th>SNo</th>\n",
       "      <th>ObservationDate</th>\n",
       "      <th>Last Update</th>\n",
       "      <th>Confirmed</th>\n",
       "      <th>Deaths</th>\n",
       "      <th>Recovered</th>\n",
       "    </tr>\n",
       "  </thead>\n",
       "  <tbody>\n",
       "    <tr>\n",
       "      <th>count</th>\n",
       "      <td>306429.000000</td>\n",
       "      <td>306429</td>\n",
       "      <td>306429</td>\n",
       "      <td>3.064290e+05</td>\n",
       "      <td>306429.000000</td>\n",
       "      <td>3.064290e+05</td>\n",
       "    </tr>\n",
       "    <tr>\n",
       "      <th>mean</th>\n",
       "      <td>153215.000000</td>\n",
       "      <td>2020-11-09 04:39:31.122837760</td>\n",
       "      <td>2021-02-01 02:00:10.825701376</td>\n",
       "      <td>8.567091e+04</td>\n",
       "      <td>2036.403268</td>\n",
       "      <td>5.042029e+04</td>\n",
       "    </tr>\n",
       "    <tr>\n",
       "      <th>min</th>\n",
       "      <td>1.000000</td>\n",
       "      <td>2020-01-02 00:00:00</td>\n",
       "      <td>2020-01-02 01:52:00</td>\n",
       "      <td>-3.028440e+05</td>\n",
       "      <td>-178.000000</td>\n",
       "      <td>-8.544050e+05</td>\n",
       "    </tr>\n",
       "    <tr>\n",
       "      <th>25%</th>\n",
       "      <td>76608.000000</td>\n",
       "      <td>2020-07-11 00:00:00</td>\n",
       "      <td>2021-02-04 15:13:53</td>\n",
       "      <td>1.042000e+03</td>\n",
       "      <td>13.000000</td>\n",
       "      <td>1.100000e+01</td>\n",
       "    </tr>\n",
       "    <tr>\n",
       "      <th>50%</th>\n",
       "      <td>153215.000000</td>\n",
       "      <td>2020-11-06 00:00:00</td>\n",
       "      <td>2021-02-04 15:13:53</td>\n",
       "      <td>1.037500e+04</td>\n",
       "      <td>192.000000</td>\n",
       "      <td>1.751000e+03</td>\n",
       "    </tr>\n",
       "    <tr>\n",
       "      <th>75%</th>\n",
       "      <td>229822.000000</td>\n",
       "      <td>2021-03-04 00:00:00</td>\n",
       "      <td>2021-02-04 15:13:53</td>\n",
       "      <td>5.075200e+04</td>\n",
       "      <td>1322.000000</td>\n",
       "      <td>2.027000e+04</td>\n",
       "    </tr>\n",
       "    <tr>\n",
       "      <th>max</th>\n",
       "      <td>306429.000000</td>\n",
       "      <td>2021-12-05 00:00:00</td>\n",
       "      <td>2021-12-05 04:21:29</td>\n",
       "      <td>5.863138e+06</td>\n",
       "      <td>112385.000000</td>\n",
       "      <td>6.399531e+06</td>\n",
       "    </tr>\n",
       "    <tr>\n",
       "      <th>std</th>\n",
       "      <td>88458.577156</td>\n",
       "      <td>NaN</td>\n",
       "      <td>NaN</td>\n",
       "      <td>2.775516e+05</td>\n",
       "      <td>6410.938048</td>\n",
       "      <td>2.015124e+05</td>\n",
       "    </tr>\n",
       "  </tbody>\n",
       "</table>\n",
       "</div>"
      ],
      "text/plain": [
       "                 SNo                ObservationDate  \\\n",
       "count  306429.000000                         306429   \n",
       "mean   153215.000000  2020-11-09 04:39:31.122837760   \n",
       "min         1.000000            2020-01-02 00:00:00   \n",
       "25%     76608.000000            2020-07-11 00:00:00   \n",
       "50%    153215.000000            2020-11-06 00:00:00   \n",
       "75%    229822.000000            2021-03-04 00:00:00   \n",
       "max    306429.000000            2021-12-05 00:00:00   \n",
       "std     88458.577156                            NaN   \n",
       "\n",
       "                         Last Update     Confirmed         Deaths  \\\n",
       "count                         306429  3.064290e+05  306429.000000   \n",
       "mean   2021-02-01 02:00:10.825701376  8.567091e+04    2036.403268   \n",
       "min              2020-01-02 01:52:00 -3.028440e+05    -178.000000   \n",
       "25%              2021-02-04 15:13:53  1.042000e+03      13.000000   \n",
       "50%              2021-02-04 15:13:53  1.037500e+04     192.000000   \n",
       "75%              2021-02-04 15:13:53  5.075200e+04    1322.000000   \n",
       "max              2021-12-05 04:21:29  5.863138e+06  112385.000000   \n",
       "std                              NaN  2.775516e+05    6410.938048   \n",
       "\n",
       "          Recovered  \n",
       "count  3.064290e+05  \n",
       "mean   5.042029e+04  \n",
       "min   -8.544050e+05  \n",
       "25%    1.100000e+01  \n",
       "50%    1.751000e+03  \n",
       "75%    2.027000e+04  \n",
       "max    6.399531e+06  \n",
       "std    2.015124e+05  "
      ]
     },
     "execution_count": 29,
     "metadata": {},
     "output_type": "execute_result"
    }
   ],
   "source": [
    "covid_data.describe()"
   ]
  },
  {
   "cell_type": "markdown",
   "metadata": {},
   "source": [
    "Ta thấy chỉ có cột Province/State có giá trị null với tỉ lệ khoảng 25% => nên tìm cách fill các dữ liệu cột Province/State"
   ]
  },
  {
   "cell_type": "code",
   "execution_count": 30,
   "metadata": {},
   "outputs": [],
   "source": [
    "missed_province_count_df = covid_data[covid_data[\"Province/State\"].isnull()].loc[:,[\"SNo\",\"Country/Region\"]].groupby(\"Country/Region\").count().reset_index()\n",
    "missed_province_count_df.rename({\"SNo\": \"null_count\"},axis=1, inplace=True)\n",
    "province_count_df = covid_data.loc[:,[\"SNo\",\"Country/Region\"]].groupby(\"Country/Region\").count().reset_index()\n",
    "province_count_df.rename({\"SNo\": \"total_count\"}, axis=1, inplace=True)"
   ]
  },
  {
   "cell_type": "code",
   "execution_count": 31,
   "metadata": {},
   "outputs": [
    {
     "data": {
      "text/html": [
       "<div>\n",
       "<style scoped>\n",
       "    .dataframe tbody tr th:only-of-type {\n",
       "        vertical-align: middle;\n",
       "    }\n",
       "\n",
       "    .dataframe tbody tr th {\n",
       "        vertical-align: top;\n",
       "    }\n",
       "\n",
       "    .dataframe thead th {\n",
       "        text-align: right;\n",
       "    }\n",
       "</style>\n",
       "<table border=\"1\" class=\"dataframe\">\n",
       "  <thead>\n",
       "    <tr style=\"text-align: right;\">\n",
       "      <th></th>\n",
       "      <th>Country/Region</th>\n",
       "      <th>null_count</th>\n",
       "      <th>total_count</th>\n",
       "      <th>missed_rate</th>\n",
       "    </tr>\n",
       "  </thead>\n",
       "  <tbody>\n",
       "    <tr>\n",
       "      <th>10</th>\n",
       "      <td>Australia</td>\n",
       "      <td>3</td>\n",
       "      <td>3788</td>\n",
       "      <td>0.079197</td>\n",
       "    </tr>\n",
       "    <tr>\n",
       "      <th>165</th>\n",
       "      <td>Russia</td>\n",
       "      <td>122</td>\n",
       "      <td>30251</td>\n",
       "      <td>0.403292</td>\n",
       "    </tr>\n",
       "    <tr>\n",
       "      <th>41</th>\n",
       "      <td>Colombia</td>\n",
       "      <td>84</td>\n",
       "      <td>12503</td>\n",
       "      <td>0.671839</td>\n",
       "    </tr>\n",
       "    <tr>\n",
       "      <th>131</th>\n",
       "      <td>Mexico</td>\n",
       "      <td>83</td>\n",
       "      <td>12282</td>\n",
       "      <td>0.675786</td>\n",
       "    </tr>\n",
       "    <tr>\n",
       "      <th>101</th>\n",
       "      <td>Japan</td>\n",
       "      <td>127</td>\n",
       "      <td>18059</td>\n",
       "      <td>0.703250</td>\n",
       "    </tr>\n",
       "    <tr>\n",
       "      <th>26</th>\n",
       "      <td>Brazil</td>\n",
       "      <td>85</td>\n",
       "      <td>10229</td>\n",
       "      <td>0.830971</td>\n",
       "    </tr>\n",
       "    <tr>\n",
       "      <th>155</th>\n",
       "      <td>Peru</td>\n",
       "      <td>83</td>\n",
       "      <td>9625</td>\n",
       "      <td>0.862338</td>\n",
       "    </tr>\n",
       "    <tr>\n",
       "      <th>208</th>\n",
       "      <td>Ukraine</td>\n",
       "      <td>90</td>\n",
       "      <td>9891</td>\n",
       "      <td>0.909918</td>\n",
       "    </tr>\n",
       "    <tr>\n",
       "      <th>92</th>\n",
       "      <td>India</td>\n",
       "      <td>132</td>\n",
       "      <td>13182</td>\n",
       "      <td>1.001365</td>\n",
       "    </tr>\n",
       "    <tr>\n",
       "      <th>40</th>\n",
       "      <td>Chile</td>\n",
       "      <td>78</td>\n",
       "      <td>6453</td>\n",
       "      <td>1.208740</td>\n",
       "    </tr>\n",
       "    <tr>\n",
       "      <th>98</th>\n",
       "      <td>Italy</td>\n",
       "      <td>104</td>\n",
       "      <td>8105</td>\n",
       "      <td>1.283159</td>\n",
       "    </tr>\n",
       "    <tr>\n",
       "      <th>187</th>\n",
       "      <td>Spain</td>\n",
       "      <td>103</td>\n",
       "      <td>7718</td>\n",
       "      <td>1.334543</td>\n",
       "    </tr>\n",
       "    <tr>\n",
       "      <th>74</th>\n",
       "      <td>Germany</td>\n",
       "      <td>103</td>\n",
       "      <td>6584</td>\n",
       "      <td>1.564399</td>\n",
       "    </tr>\n",
       "    <tr>\n",
       "      <th>192</th>\n",
       "      <td>Sweden</td>\n",
       "      <td>126</td>\n",
       "      <td>7665</td>\n",
       "      <td>1.643836</td>\n",
       "    </tr>\n",
       "    <tr>\n",
       "      <th>206</th>\n",
       "      <td>UK</td>\n",
       "      <td>121</td>\n",
       "      <td>6674</td>\n",
       "      <td>1.813006</td>\n",
       "    </tr>\n",
       "    <tr>\n",
       "      <th>141</th>\n",
       "      <td>Netherlands</td>\n",
       "      <td>135</td>\n",
       "      <td>5999</td>\n",
       "      <td>2.250375</td>\n",
       "    </tr>\n",
       "    <tr>\n",
       "      <th>150</th>\n",
       "      <td>Pakistan</td>\n",
       "      <td>105</td>\n",
       "      <td>2583</td>\n",
       "      <td>4.065041</td>\n",
       "    </tr>\n",
       "    <tr>\n",
       "      <th>68</th>\n",
       "      <td>France</td>\n",
       "      <td>480</td>\n",
       "      <td>5024</td>\n",
       "      <td>9.554140</td>\n",
       "    </tr>\n",
       "    <tr>\n",
       "      <th>19</th>\n",
       "      <td>Belgium</td>\n",
       "      <td>282</td>\n",
       "      <td>2670</td>\n",
       "      <td>10.561798</td>\n",
       "    </tr>\n",
       "    <tr>\n",
       "      <th>51</th>\n",
       "      <td>Denmark</td>\n",
       "      <td>447</td>\n",
       "      <td>1340</td>\n",
       "      <td>33.358209</td>\n",
       "    </tr>\n",
       "    <tr>\n",
       "      <th>195</th>\n",
       "      <td>Taiwan</td>\n",
       "      <td>445</td>\n",
       "      <td>494</td>\n",
       "      <td>90.080972</td>\n",
       "    </tr>\n",
       "    <tr>\n",
       "      <th>97</th>\n",
       "      <td>Israel</td>\n",
       "      <td>459</td>\n",
       "      <td>464</td>\n",
       "      <td>98.922414</td>\n",
       "    </tr>\n",
       "    <tr>\n",
       "      <th>20</th>\n",
       "      <td>Belize</td>\n",
       "      <td>433</td>\n",
       "      <td>433</td>\n",
       "      <td>100.000000</td>\n",
       "    </tr>\n",
       "    <tr>\n",
       "      <th>21</th>\n",
       "      <td>Benin</td>\n",
       "      <td>440</td>\n",
       "      <td>440</td>\n",
       "      <td>100.000000</td>\n",
       "    </tr>\n",
       "    <tr>\n",
       "      <th>15</th>\n",
       "      <td>Bahrain</td>\n",
       "      <td>461</td>\n",
       "      <td>461</td>\n",
       "      <td>100.000000</td>\n",
       "    </tr>\n",
       "  </tbody>\n",
       "</table>\n",
       "</div>"
      ],
      "text/plain": [
       "    Country/Region  null_count  total_count  missed_rate\n",
       "10       Australia           3         3788     0.079197\n",
       "165         Russia         122        30251     0.403292\n",
       "41        Colombia          84        12503     0.671839\n",
       "131         Mexico          83        12282     0.675786\n",
       "101          Japan         127        18059     0.703250\n",
       "26          Brazil          85        10229     0.830971\n",
       "155           Peru          83         9625     0.862338\n",
       "208        Ukraine          90         9891     0.909918\n",
       "92           India         132        13182     1.001365\n",
       "40           Chile          78         6453     1.208740\n",
       "98           Italy         104         8105     1.283159\n",
       "187          Spain         103         7718     1.334543\n",
       "74         Germany         103         6584     1.564399\n",
       "192         Sweden         126         7665     1.643836\n",
       "206             UK         121         6674     1.813006\n",
       "141    Netherlands         135         5999     2.250375\n",
       "150       Pakistan         105         2583     4.065041\n",
       "68          France         480         5024     9.554140\n",
       "19         Belgium         282         2670    10.561798\n",
       "51         Denmark         447         1340    33.358209\n",
       "195         Taiwan         445          494    90.080972\n",
       "97          Israel         459          464    98.922414\n",
       "20          Belize         433          433   100.000000\n",
       "21           Benin         440          440   100.000000\n",
       "15         Bahrain         461          461   100.000000"
      ]
     },
     "execution_count": 31,
     "metadata": {},
     "output_type": "execute_result"
    }
   ],
   "source": [
    "joined_df = pd.merge(missed_province_count_df, province_count_df, on=\"Country/Region\", how=\"inner\")\n",
    "joined_df[\"missed_rate\"] = (joined_df[\"null_count\"] / joined_df[\"total_count\"]) * 100\n",
    "joined_df.sort_values(\"missed_rate\", ascending=True, inplace=True)\n",
    "joined_df.head(25)"
   ]
  },
  {
   "cell_type": "markdown",
   "metadata": {},
   "source": [
    "=> Có số lượng lớn quốc gia có tỉ lệ null cột Province/State là 100%. Cần tìm ra 1 giá trị thay thế ví dụ như No Information, Unknown,..."
   ]
  },
  {
   "cell_type": "markdown",
   "metadata": {},
   "source": [
    "Kiểm tra các giá trị của Province/State của một quốc gia có tỉ lệ null vừa phải để tìm cách fill các giá trị null"
   ]
  },
  {
   "cell_type": "code",
   "execution_count": 32,
   "metadata": {},
   "outputs": [
    {
     "data": {
      "text/plain": [
       "array([nan, 'Aichi', 'Akita', 'Aomori', 'Chiba', 'Ehime', 'Fukui',\n",
       "       'Fukuoka', 'Fukushima', 'Gifu', 'Gunma', 'Hiroshima', 'Hokkaido',\n",
       "       'Hyogo', 'Ibaraki', 'Ishikawa', 'Kagawa', 'Kagoshima', 'Kanagawa',\n",
       "       'Kochi', 'Kumamoto', 'Kyoto', 'Mie', 'Miyagi', 'Miyazaki',\n",
       "       'Nagano', 'Nagasaki', 'Nara', 'Niigata', 'Oita', 'Okayama',\n",
       "       'Okinawa', 'Osaka', 'Port Quarantine', 'Saga', 'Saitama', 'Shiga',\n",
       "       'Shimane', 'Shizuoka', 'Tochigi', 'Tokushima', 'Tokyo', 'Tottori',\n",
       "       'Toyama', 'Unknown', 'Wakayama', 'Yamagata', 'Yamaguchi',\n",
       "       'Yamanashi', 'Iwate'], dtype=object)"
      ]
     },
     "execution_count": 32,
     "metadata": {},
     "output_type": "execute_result"
    }
   ],
   "source": [
    "covid_data[covid_data[\"Country/Region\"] == \"Japan\"][\"Province/State\"].unique()"
   ]
  },
  {
   "cell_type": "markdown",
   "metadata": {},
   "source": [
    "Ta thấy ở Nhật Bản có sử dụng Unknown có các giá trị bị mất\\\n",
    "=> Ta có thể sử dụng Unkwown cho các giá trị null"
   ]
  },
  {
   "cell_type": "code",
   "execution_count": 33,
   "metadata": {},
   "outputs": [],
   "source": [
    "covid_data.fillna({\"Province/State\": \"Unknown\"}, inplace=True)"
   ]
  },
  {
   "cell_type": "markdown",
   "metadata": {},
   "source": [
    "#### Kiểm tra và xử lý outliers"
   ]
  },
  {
   "cell_type": "markdown",
   "metadata": {},
   "source": [
    "***Các cột dữ liệu số***"
   ]
  },
  {
   "cell_type": "code",
   "execution_count": 49,
   "metadata": {},
   "outputs": [
    {
     "name": "stdout",
     "output_type": "stream",
     "text": [
      "<class 'pandas.core.frame.DataFrame'>\n",
      "RangeIndex: 306429 entries, 0 to 306428\n",
      "Data columns (total 3 columns):\n",
      " #   Column     Non-Null Count   Dtype  \n",
      "---  ------     --------------   -----  \n",
      " 0   Confirmed  262451 non-null  float64\n",
      " 1   Recovered  259966 non-null  float64\n",
      " 2   Deaths     264327 non-null  float64\n",
      "dtypes: float64(3)\n",
      "memory usage: 7.0 MB\n"
     ]
    }
   ],
   "source": [
    "numerical_cols = ['Confirmed', 'Recovered', 'Deaths']\n",
    "covid_data[numerical_cols].info()"
   ]
  },
  {
   "cell_type": "code",
   "execution_count": 50,
   "metadata": {},
   "outputs": [
    {
     "data": {
      "image/png": "[encoded data removed]",
      "text/plain": [
       "<Figure size 1000x600 with 1 Axes>"
      ]
     },
     "metadata": {},
     "output_type": "display_data"
    },
    {
     "data": {
      "image/png": "[encoded data removed]",
      "text/plain": [
       "<Figure size 1000x600 with 1 Axes>"
      ]
     },
     "metadata": {},
     "output_type": "display_data"
    },
    {
     "data": {
      "image/png": "[encoded data removed]",
      "text/plain": [
       "<Figure size 1000x600 with 1 Axes>"
      ]
     },
     "metadata": {},
     "output_type": "display_data"
    }
   ],
   "source": [
    "def visualize_outliers(data, columns):\n",
    "    for column in columns:\n",
    "        plt.figure(figsize=(10, 6))\n",
    "        sns.boxplot(x=data[column])\n",
    "        plt.title(f'Biểu đồ box plot cho cột {column}')\n",
    "        plt.show()\n",
    "\n",
    "visualize_outliers(covid_data, numerical_cols)"
   ]
  },
  {
   "cell_type": "markdown",
   "metadata": {},
   "source": [
    "***Nhận xét***\n",
    "- Confirmed : Biểu đồ hộp cho thấy có một số outliers nằm trên mức cao. Điều này có thể phản ánh các ngày có số ca mắc covid tăng đột biến.\n",
    "- Recovered : Tương tự, có một số giá trị ngoại lai ở mức cao, có thể là do số lượng lớn người hồi phục trong một khoảng thời gian ngắn.\n",
    "- Deaths : Các giá trị ngoại lai ở mức cao có thể chỉ ra các ngày có số ca tử vong tăng đột biến."
   ]
  },
  {
   "cell_type": "markdown",
   "metadata": {},
   "source": [
    "***Kiểm tra và xử lý dữ liệu bị thiếu hoặc bị trùng lặp***  "
   ]
  },
  {
   "cell_type": "code",
   "execution_count": null,
   "metadata": {},
   "outputs": [],
   "source": [
    "***Nhận xét***\n",
    "- Confirmed : Biểu đồ hộp cho thấy có một số outliers nằm trên mức cao. Điều này có thể phản ánh các ngày có số ca mắc covid tăng đột biến.\n",
    "- Recovered : Tương tự, có một số giá trị ngoại lai ở mức cao, có thể là do số lượng lớn người hồi phục trong một khoảng thời gian ngắn.\n",
    "- Deaths : Các giá trị ngoại lai ở mức cao có thể chỉ ra các ngày có số ca tử vong tăng đột biến."
   ]
  }
 ],
 "metadata": {
  "kernelspec": {
   "display_name": "dataviz",
   "language": "python",
   "name": "python3"
  },
  "language_info": {
   "codemirror_mode": {
    "name": "ipython",
    "version": 3
   },
   "file_extension": ".py",
   "mimetype": "text/x-python",
   "name": "python",
   "nbconvert_exporter": "python",
   "pygments_lexer": "ipython3",
   "version": "3.11.11"
  }
 },
 "nbformat": 4,
 "nbformat_minor": 2
}
