{
 "cells": [
  {
   "cell_type": "markdown",
   "metadata": {},
   "source": [
    "<div style=\"\n",
    "    background-color: #E3F2FD; \n",
    "    padding: 20px; \n",
    "    text-align: center;\"\n",
    "    >\n",
    "    <h1 style=\"color: darkblue; font-family: Poppins, sans-serif; margin-bottom: 5px; font-weight: bold;\">\n",
    "        Trực quan hóa dữ liệu về diễn biến dịch Covid-19\n",
    "    </h1>\n",
    "    <h3 style=\"color:darkblue; font-family: Poppins, sans-serif; margin-top: 0;\">\n",
    "        Nhóm 9\n",
    "    </h3>\n",
    "\n",
    "<hr style=\"border: 2x solid darkblue;\">\n",
    "</div>\n"
   ]
  },
  {
   "cell_type": "markdown",
   "metadata": {},
   "source": [
    "### Chuẩn bị dữ liệu"
   ]
  },
  {
   "cell_type": "markdown",
   "metadata": {},
   "source": [
    "**Import các thư viện cần thiết**"
   ]
  },
  {
   "cell_type": "code",
   "execution_count": null,
   "metadata": {},
   "outputs": [],
   "source": [
    "import pandas as pd\n",
    "import numpy as np\n",
    "import os\n",
    "import re\n",
    "import matplotlib.pyplot as plt\n",
    "import pandas as pd\n",
    "import seaborn as sns\n",
    "import matplotlib.pyplot as plt\n",
    "from matplotlib.colors import LogNorm\n",
    "import time\n",
    "\n",
    "%matplotlib inline\n",
    "import warnings\n",
    "warnings.filterwarnings(\"ignore\")\n",
    "\n",
    "RAW_DATA_PATH = r\"../data/raw\"\n",
    "PROCESSED_DATA_PATH = r\"../data/processed/daily_data\""
   ]
  },
  {
   "cell_type": "markdown",
   "metadata": {},
   "source": [
    "**Dữ liệu diễn biến dịch Covid 19 theo ngày**"
   ]
  },
  {
   "cell_type": "code",
   "execution_count": null,
   "metadata": {},
   "outputs": [],
   "source": [
    "daily_files = [\n",
    "    'daily_confirmed_cases.csv',\n",
    "    'daily_deaths_cases.csv',\n",
    "    'daily_recovered_cases.csv'\n",
    "]"
   ]
  },
  {
   "cell_type": "code",
   "execution_count": null,
   "metadata": {},
   "outputs": [],
   "source": [
    "daily_data = {}\n",
    "for file in daily_files:\n",
    "    df = pd.read_csv(os.path.join(PROCESSED_DATA_PATH, file))\n",
    "    key = file.replace(\"daily_\", \"\").replace(\"_cases.csv\", \"\")\n",
    "    daily_data[key] = df\n",
    "    print(f\"{key}: {df.shape}\")"
   ]
  },
  {
   "cell_type": "markdown",
   "metadata": {},
   "source": [
    "Dữ liệu có 193 hàng (tương ứng số lượng quốc gia, khu vực khảo sát) và 497 cột (tương ứng các đặc trưng tên quốc gia, kinh độ, vĩ độ, số ca theo ngày)"
   ]
  },
  {
   "cell_type": "code",
   "execution_count": null,
   "metadata": {},
   "outputs": [],
   "source": [
    "confirmed_df = daily_data.get(\"confirmed\")\n",
    "deaths_df = daily_data.get(\"deaths\")\n",
    "recovered_df = daily_data.get(\"recovered\")"
   ]
  },
  {
   "cell_type": "code",
   "execution_count": null,
   "metadata": {},
   "outputs": [],
   "source": [
    "def reshape_daily_wide_file(df, value_name):\n",
    "    df_long = df.melt(\n",
    "        id_vars=['Country/Region', 'Lat', 'Long'], \n",
    "        var_name='ObservationDate', \n",
    "        value_name=value_name  \n",
    "    )\n",
    "    df_long['ObservationDate'] = pd.to_datetime(df_long['ObservationDate'], format=\"%m/%d/%y\", errors='coerce')\n",
    "    return df_long\n",
    "\n",
    "\n",
    "confirmed_long = reshape_daily_wide_file(confirmed_df, \"Confirmed\") \n",
    "deaths_long = reshape_daily_wide_file(deaths_df, \"Deaths\") \n",
    "recovered_long = reshape_daily_wide_file(recovered_df, \"Recovered\") \n",
    "\n",
    "covid_data = confirmed_long.merge(\n",
    "    deaths_long, \n",
    "    on=['Country/Region', 'Lat', 'Long', 'ObservationDate'], \n",
    "    how='outer'\n",
    ")\n",
    "\n",
    "covid_data = covid_data.merge(\n",
    "    recovered_long, \n",
    "    on=['Country/Region', 'Lat', 'Long', 'ObservationDate'], \n",
    "    how='outer'\n",
    ")\n"
   ]
  },
  {
   "cell_type": "markdown",
   "metadata": {},
   "source": [
    "Kiểm tra khoảng giá trị ngày tháng của dữ liệu "
   ]
  },
  {
   "cell_type": "code",
   "execution_count": null,
   "metadata": {},
   "outputs": [],
   "source": [
    "\n",
    "covid_data['ObservationDate'] = pd.to_datetime(covid_data['ObservationDate'], errors='coerce')\n",
    "\n",
    "start_date = covid_data['ObservationDate'].min()\n",
    "end_date = covid_data['ObservationDate'].max()\n",
    "\n",
    "print(f\"Date Range: {start_date.date()} to {end_date.date()}\")\n"
   ]
  },
  {
   "cell_type": "markdown",
   "metadata": {},
   "source": [
    "## Phân tích dữ liệu để tìm hiểu xu hướng của dịch bệnh"
   ]
  },
  {
   "cell_type": "code",
   "execution_count": null,
   "metadata": {},
   "outputs": [],
   "source": [
    "import pandas as pd\n",
    "import seaborn as sns\n",
    "import matplotlib.pyplot as plt\n",
    "\n",
    "def plot_trend_analysis(df, country=None):\n",
    "    \"\"\"\n",
    "    Hàm vẽ biểu đồ xu hướng số ca nhiễm, tử vong và hồi phục theo thời gian.\n",
    "\n",
    "    Parameters:\n",
    "    ---\n",
    "    df : pandas.DataFrame chứa dữ liệu Covid-19\n",
    "    country : str, optional\n",
    "        Tên quốc gia cần phân tích (ví dụ: \"Vietnam\", \"United States\").\n",
    "        Nếu không truyền vào, hàm hiển thị dữ liệu toàn cầu.\n",
    "    \"\"\"\n",
    "    sns.set(style=\"whitegrid\")\n",
    "\n",
    "    # Đảm bảo cột ObservationDate là datetime\n",
    "    df['ObservationDate'] = pd.to_datetime(df['ObservationDate'])\n",
    "\n",
    "    # Lọc theo quốc gia nếu được cung cấp\n",
    "    if country:\n",
    "        df = df[df['Country/Region'] == country]\n",
    "\n",
    "    # Gom nhóm theo ngày\n",
    "    daily = df.groupby('ObservationDate')[['Confirmed', 'Deaths', 'Recovered']].sum().reset_index()\n",
    "\n",
    "    # Tính trung bình trong đoạn cửa sổ trượt 7 ngày\n",
    "    daily['Confirmed_MA'] = daily['Confirmed'].rolling(window=7).mean()\n",
    "    daily['Deaths_MA'] = daily['Deaths'].rolling(window=7).mean()\n",
    "    daily['Recovered_MA'] = daily['Recovered'].rolling(window=7).mean()\n",
    "\n",
    "    plt.figure(figsize=(14, 7))\n",
    "\n",
    "    # Confirmed trend\n",
    "    plt.subplot(3, 1, 1)\n",
    "    sns.lineplot(data=daily, x='ObservationDate', y='Confirmed_MA', color='blue')\n",
    "    plt.title(f'Xu hướng số ca nhiễm được xác nhận{\" tại \" + country if country else \"\"}')\n",
    "    plt.ylabel('Số ca nhiễm (7-day MA)')\n",
    "    plt.xlabel('Ngày')\n",
    "\n",
    "    # Deaths trend\n",
    "    plt.subplot(3, 1, 2)\n",
    "    sns.lineplot(data=daily, x='ObservationDate', y='Deaths_MA', color='red')\n",
    "    plt.title(f'Xu hướng số ca tử vong{\" tại \" + country if country else \"\"}')\n",
    "    plt.ylabel('Số ca tử vong (7-day MA)')\n",
    "    plt.xlabel('Ngày')\n",
    "\n",
    "    # Recovered trend\n",
    "    plt.subplot(3, 1, 3)\n",
    "    sns.lineplot(data=daily, x='ObservationDate', y='Recovered_MA', color='green')\n",
    "    plt.title(f'Xu hướng số ca hồi phục{\" tại \" + country if country else \"\"}')\n",
    "    plt.ylabel('Số ca hồi phục (7-day MA)')\n",
    "    plt.xlabel('Ngày')\n",
    "\n",
    "    plt.tight_layout()\n",
    "    plt.show()\n"
   ]
  },
  {
   "cell_type": "code",
   "execution_count": null,
   "metadata": {},
   "outputs": [],
   "source": [
    "def plot_comparison_trend(df, countries):\n",
    "    \"\"\"\n",
    "    Hàm vẽ biểu đồ so sánh xu hướng số ca nhiễm giữa các quốc gia.\n",
    "\n",
    "    Parameters:\n",
    "    ---\n",
    "    df : pandas.DataFrame chứa dữ liệu Covid-19 với các cột\n",
    "    countries : list\n",
    "        List các quốc gia cần so sánh (ví dụ: [\"Vietnam\", \"United States\", \"India\"]).\n",
    "    \"\"\"\n",
    "    sns.set(style=\"whitegrid\")\n",
    "    df['ObservationDate'] = pd.to_datetime(df['ObservationDate'])\n",
    "\n",
    "    plt.figure(figsize=(14, 8))\n",
    "\n",
    "    for country in countries:\n",
    "        country_df = df[df['Country/Region'] == country]\n",
    "        daily = country_df.groupby('ObservationDate')['Confirmed'].sum().rolling(window=7).mean().reset_index()\n",
    "        sns.lineplot(data=daily, x='ObservationDate', y='Confirmed', label=country)\n",
    "\n",
    "    plt.title(\"So sánh xu hướng số ca nhiễm giữa các quốc gia\")\n",
    "    plt.xlabel(\"Ngày\")\n",
    "    plt.ylabel(\"Số ca nhiễm (7-day MA)\")\n",
    "    plt.legend()\n",
    "    plt.tight_layout()\n",
    "    plt.show()\n"
   ]
  },
  {
   "cell_type": "markdown",
   "metadata": {},
   "source": [
    "### Xu hướng dịch COVID 19 toàn cầu theo tuần"
   ]
  },
  {
   "cell_type": "code",
   "execution_count": null,
   "metadata": {},
   "outputs": [],
   "source": [
    "plot_trend_analysis(covid_data)"
   ]
  },
  {
   "cell_type": "markdown",
   "metadata": {},
   "source": [
    "**Nhận xét:**  \n",
    "\n",
    "- Số ca nhiễm và tử vong đều có xu hướng tăng qua từng đợt bùng phát dịch, và đều đạt đỉnh lớn vào cuối năm 2020 đầu năm 2021, phản ánh được giai đoạn dịch bùng phát mạnh."
   ]
  },
  {
   "cell_type": "code",
   "execution_count": null,
   "metadata": {},
   "outputs": [],
   "source": [
    "def prepare_heatmap_data(df, column_name):\n",
    "    df['Total'] = df.iloc[:, 3:].sum(axis=1)\n",
    "    top_countries = df.nlargest(20, 'Total')['Country/Region'].tolist()\n",
    "    \n",
    "    df_top = df[df['Country/Region'].isin(top_countries)]\n",
    "    \n",
    "    df_melt = df_top.melt(id_vars=['Country/Region'], \n",
    "                          value_vars=df.columns[3:-1], \n",
    "                          var_name='Date', \n",
    "                          value_name=column_name)\n",
    "    \n",
    "    df_melt['Date'] = pd.to_datetime(df_melt['Date'], format='%m/%d/%y')\n",
    "    df_melt['Month'] = df_melt['Date'].dt.to_period('M').dt.to_timestamp()\n",
    "    df_monthly = df_melt.groupby(['Country/Region', 'Month'])[column_name].sum().reset_index()\n",
    "    \n",
    "    heatmap_data = df_monthly.pivot(index='Country/Region', \n",
    "                                    columns='Month', \n",
    "                                    values=column_name)\n",
    "    \n",
    "    return heatmap_data, df_monthly\n",
    "\n",
    "def create_heatmap(ax, data, title, color_map, show_ylabel=True):\n",
    "    sns.heatmap(data, \n",
    "                ax=ax,\n",
    "                cmap=color_map,\n",
    "                norm=LogNorm(),\n",
    "                cbar_kws={'label': title + ' (log)'})\n",
    "    \n",
    "    # Format x-axis labels\n",
    "    month_labels = [date.strftime('%m/%Y') for date in data.columns]\n",
    "    ax.set_xticks(range(len(month_labels)))\n",
    "    ax.set_xticklabels(month_labels, rotation=45, ha='right')\n",
    "    \n",
    "    # Set titles and labels\n",
    "    ax.set_title(title, fontsize=14)\n",
    "    ax.set_xlabel('Tháng', fontsize=12)\n",
    "    \n",
    "    if show_ylabel:\n",
    "        ax.set_ylabel('Quốc gia', fontsize=12)\n",
    "    else:\n",
    "        ax.set_ylabel('', fontsize=0)\n",
    "    \n",
    "    return ax\n",
    "\n",
    "fig, axes = plt.subplots(1, 3, figsize=(32, 10))\n",
    "\n",
    "confirmed_data, confirmed_monthly = prepare_heatmap_data(confirmed_df, 'Cases')\n",
    "deaths_data, deaths_monthly = prepare_heatmap_data(deaths_df, 'Cases')\n",
    "recovered_data, recovered_monthly = prepare_heatmap_data(recovered_df, 'Cases')\n",
    "\n",
    "create_heatmap(axes[0], confirmed_data, 'Số ca nhiễm COVID-19 theo tháng', 'Purples', True)\n",
    "create_heatmap(axes[1], deaths_data, 'Số ca tử vong COVID-19 theo tháng', 'YlOrRd', False)\n",
    "create_heatmap(axes[2], recovered_data, 'Số ca hồi phục COVID-19 theo tháng', 'GnBu', False)\n",
    "\n",
    "plt.suptitle('Phân tích COVID-19 cho 20 quốc gia dẫn đầu', fontsize=16, y=0.98)\n",
    "plt.tight_layout()\n",
    "plt.subplots_adjust(top=0.90)  \n",
    "\n",
    "plt.show()"
   ]
  },
  {
   "cell_type": "markdown",
   "metadata": {},
   "source": [
    "**Nhận xét:**\n",
    "\n",
    "3 biểu đồ heatmap này cho thấy sự biến động của đại dịch COVID-19 tại 20 quốc gia dẫn đầu về số ca nhiễm trong khoảng thời gian từ đầu năm 2020 đến đầu năm 2021. Nhìn chung, cả 3 biểu đồ đều có màu chuyển đậm dần, thể hiện một xu hướng tăng dần theo thời gian. Biểu đồ thể hiện rõ làn sóng lây nhiễm, tử vong và hồi phục diễn ra không đồng đều giữa các quốc gia, với một số nước chịu tác động nặng nề hơn ở các thời điểm khác nhau trong đại dịch."
   ]
  },
  {
   "cell_type": "markdown",
   "metadata": {},
   "source": [
    "### Khảo sát diễn biến tại một số quốc gia cụ thể tại các khu vực trên thế giới "
   ]
  },
  {
   "cell_type": "code",
   "execution_count": null,
   "metadata": {},
   "outputs": [],
   "source": [
    "plot_comparison_trend(covid_data, countries=[\"Vietnam\", \"China\", \"India\", \"Australia\",\"US\",  \"Brazil\", \"Germany\", \"France\", \"Zimbabwe\", \"Russia\", \"Somalia\"])\n"
   ]
  },
  {
   "cell_type": "markdown",
   "metadata": {},
   "source": [
    "**Nhận xét**\n",
    "- Biểu đồ thể hiện xu hướng số ca nhiễm COVID-19 tại một số quốc gia đại diện cho các châu lục trên thế giới. Mỹ đại diện cho Bắc Mỹ, Brazil cho Nam Mỹ, Ấn Độ và Vietnam cho châu Á, Nga và Pháp cho châu Âu, Zimbabwe và Somalia cho châu Phi, còn Australia đại diện cho châu Đại Dương.\n",
    "- Mỹ và Ấn Độ có số ca nhiễm cao nhất, với Ấn Độ đạt đỉnh khoảng 400.000 ca/ngày vào giữa năm 2021.\n",
    "- Brazil và Nga có số ca nhiễm cao nhưng không tăng đột biến như Mỹ hay Ấn Độ.\n",
    "- Việt Nam, Somalia và Zimbabwe có số ca nhiễm thấp hơn đáng kể so với các quốc gia khác.\n",
    "\n",
    "**Suy đoán:**\n",
    "- Các quốc gia châu Phi như Somalia, Zimbabwe có số ca nhiễm thấp hơn, có thể do điều kiện xét nghiệm hạn chế hoặc khác biệt về nhân khẩu học, khí hậu và mức độ di chuyển quốc tế."
   ]
  },
  {
   "cell_type": "markdown",
   "metadata": {},
   "source": [
    "### Khảo sát diễn biến dịch tại Trung Quốc"
   ]
  },
  {
   "cell_type": "code",
   "execution_count": null,
   "metadata": {},
   "outputs": [],
   "source": [
    "plot_trend_analysis(covid_data, country=\"China\")"
   ]
  },
  {
   "cell_type": "markdown",
   "metadata": {},
   "source": [
    "**Nhận xét:**\n",
    "- Đầu năm 2020, Trung Quốc trải qua đợt bùng phát dịch COVID-19 lớn, thể hiện qua sự tăng vọt của số ca nhiễm, tử vong và hồi phục.\n",
    "- Sau đợt bùng phát trên, cả 3 chỉ số đều giảm mạnh và duy trì ở mức thấp, cho thấy Trung Quốc đã kiểm soát dịch bệnh thành công trong giai đoạn này"
   ]
  },
  {
   "cell_type": "markdown",
   "metadata": {},
   "source": [
    "### Thống kê và so sánh mức độ gia tăng ca nhiễm COVID-19 hàng ngày và hàng tuần trên toàn thế giới "
   ]
  },
  {
   "cell_type": "code",
   "execution_count": null,
   "metadata": {},
   "outputs": [],
   "source": [
    "import pandas as pd\n",
    "import matplotlib.pyplot as plt\n",
    "import seaborn as sns\n",
    "\n",
    "# Giả sử bạn đã có: covid_data (dữ liệu gốc)\n",
    "df_full_grouped = covid_data.copy()\n",
    "\n",
    "# Đảm bảo cột ngày đúng kiểu\n",
    "df_full_grouped['ObservationDate'] = pd.to_datetime(df_full_grouped['ObservationDate'])\n",
    "\n",
    "# Gom nhóm theo ngày (toàn cầu hoặc quốc gia tùy chọn)\n",
    "df_full_grouped = df_full_grouped.groupby('ObservationDate')[['Confirmed', 'Deaths']].sum().reset_index()\n",
    "\n",
    "# Tính tăng trưởng hằng ngày (daily growth rate %)\n",
    "df_full_grouped['Tốc độ gia tăng của số ca nhiễm hắng ngày'] = df_full_grouped['Confirmed'].pct_change().fillna(0) * 100\n",
    "df_full_grouped['Tốc độ gia tăng của số ca tử vong hằng ngày'] = df_full_grouped['Deaths'].pct_change().fillna(0) * 100\n",
    "\n",
    "# Tăng trưởng hằng tuần (so với 7 ngày trước)\n",
    "df_full_grouped['Tốc độ gia tăng của số ca nhiễm hằng tuần'] = df_full_grouped['Confirmed'].pct_change(periods=7).fillna(0) * 100\n",
    "df_full_grouped['Tốc độ gia tăng của số ca tử vong hằng tuần'] = df_full_grouped['Deaths'].pct_change(periods=7).fillna(0) * 100\n",
    "\n",
    "# Xem dữ liệu\n",
    "df_full_grouped.head(50)[['ObservationDate', 'Confirmed', 'Deaths',\n",
    "                          'Tốc độ gia tăng của số ca nhiễm hắng ngày', 'Tốc độ gia tăng của số ca tử vong hằng ngày',\n",
    "                          'Tốc độ gia tăng của số ca nhiễm hằng tuần', 'Tốc độ gia tăng của số ca tử vong hằng tuần']]\n"
   ]
  },
  {
   "cell_type": "code",
   "execution_count": null,
   "metadata": {},
   "outputs": [],
   "source": [
    "import matplotlib.dates as mdates\n",
    "\n",
    "fig = plt.figure(figsize=(20, 20))\n",
    "\n",
    "# 1. Diễn biến số ca nhiễm và tử vong theo thời gian\n",
    "ax1 = plt.subplot(3, 2, 1)\n",
    "ax1.plot(df_full_grouped['ObservationDate'], df_full_grouped['Confirmed'], 'b-', label='Số ca nhiễm')\n",
    "ax1.set_ylabel('Số ca nhiễm', color='b')\n",
    "ax1.tick_params('y', colors='b')\n",
    "ax1.set_title('Diễn biến số ca nhiễm và tử vong theo thời gian')\n",
    "ax1.xaxis.set_major_formatter(mdates.DateFormatter('%Y-%m-%d'))\n",
    "ax1.xaxis.set_major_locator(mdates.MonthLocator())\n",
    "plt.xticks(rotation=45)\n",
    "\n",
    "# Twin axis for deaths\n",
    "ax1_twin = ax1.twinx()\n",
    "ax1_twin.plot(df_full_grouped['ObservationDate'], df_full_grouped['Deaths'], 'r-', label='Số ca tử vong')\n",
    "ax1_twin.set_ylabel('Số ca tử vong', color='r')\n",
    "ax1_twin.tick_params('y', colors='r')\n",
    "\n",
    "# Create combined legend\n",
    "lines1, labels1 = ax1.get_legend_handles_labels()\n",
    "lines2, labels2 = ax1_twin.get_legend_handles_labels()\n",
    "ax1.legend(lines1 + lines2, labels1 + labels2, loc='upper left')\n",
    "\n",
    "# 2. TTốc độ gia tăng số ca tử vong hằng ngày\n",
    "ax2 = plt.subplot(3, 2, 2)\n",
    "ax2.plot(df_full_grouped['ObservationDate'], df_full_grouped['Tốc độ gia tăng của số ca nhiễm hắng ngày'], 'b-', \n",
    "         label='Tốc độ gia tăng số ca nhiễm hằng ngày')\n",
    "ax2.plot(df_full_grouped['ObservationDate'], df_full_grouped['Tốc độ gia tăng của số ca tử vong hằng ngày'], 'r-', \n",
    "         label='Tốc độ gia tăng số ca tử vong hằng ngày')\n",
    "ax2.set_ylabel('Tốc độ gia tăng (%)')\n",
    "ax2.set_title('Tốc độ gia tăng hằng ngày (%)')\n",
    "ax2.xaxis.set_major_formatter(mdates.DateFormatter('%Y-%m-%d'))\n",
    "ax2.xaxis.set_major_locator(mdates.MonthLocator())\n",
    "ax2.legend()\n",
    "plt.xticks(rotation=45)\n",
    "ax2.set_ylim(bottom=0)  # Start from 0\n",
    "\n",
    "# 3. Tốc độ gia tăng số ca tử vong hằng tuần\n",
    "ax3 = plt.subplot(3, 2, 3)\n",
    "ax3.plot(df_full_grouped['ObservationDate'], df_full_grouped['Tốc độ gia tăng của số ca nhiễm hằng tuần'], 'b-', \n",
    "         label='Tốc độ gia tăng số ca nhiễm hằng tuần')\n",
    "ax3.plot(df_full_grouped['ObservationDate'], df_full_grouped['Tốc độ gia tăng của số ca tử vong hằng tuần'], 'r-', \n",
    "         label='Tốc độ gia tăng số ca tử vong hằng tuần')\n",
    "ax3.set_ylabel('Tốc độ gia tăng (%)')\n",
    "ax3.set_title('Tốc độ gia tăng hằng tuần (%)')\n",
    "ax3.xaxis.set_major_formatter(mdates.DateFormatter('%Y-%m-%d'))\n",
    "ax3.xaxis.set_major_locator(mdates.MonthLocator())\n",
    "ax3.legend()\n",
    "plt.xticks(rotation=45)\n",
    "ax3.set_ylim(bottom=0)  # Start from 0\n",
    "\n",
    "# 4. Trung bình trượt 7 ngày của tốc độ gia tăng hằng ngày\n",
    "ax4 = plt.subplot(3, 2, 4)\n",
    "ax4.plot(df_full_grouped['ObservationDate'], \n",
    "         df_full_grouped['Tốc độ gia tăng của số ca nhiễm hắng ngày'].rolling(window=7).mean(), 'b-', \n",
    "         label='Trung bình 7 ngày - Tốc độ gia tăng số ca nhiễm')\n",
    "ax4.plot(df_full_grouped['ObservationDate'], \n",
    "         df_full_grouped['Tốc độ gia tăng của số ca tử vong hằng ngày'].rolling(window=7).mean(), 'r-', \n",
    "         label='Trung bình 7 ngày - Tốc độ gia tăng số ca tử vong')\n",
    "ax4.set_ylabel('Tốc độ gia tăng trung bình (%)')\n",
    "ax4.set_title('Trung bình động 7 ngày của tốc độ gia tăng hằng ngày')\n",
    "ax4.xaxis.set_major_formatter(mdates.DateFormatter('%Y-%m-%d'))\n",
    "ax4.xaxis.set_major_locator(mdates.MonthLocator())\n",
    "ax4.legend()\n",
    "plt.xticks(rotation=45)\n",
    "\n",
    "# 5. Diễn biến trên thang logarit\n",
    "ax5 = plt.subplot(3, 2, 5)\n",
    "ax5.semilogy(df_full_grouped['ObservationDate'], df_full_grouped['Confirmed'], 'b-', label='Số ca nhiễm (log)')\n",
    "ax5.semilogy(df_full_grouped['ObservationDate'], df_full_grouped['Deaths'], 'r-', label='Số ca tử vong (log)')\n",
    "ax5.set_ylabel('Số ca (thang logarit)')\n",
    "ax5.set_title('Diễn biến trên thang logarit')\n",
    "ax5.xaxis.set_major_formatter(mdates.DateFormatter('%Y-%m-%d'))\n",
    "ax5.xaxis.set_major_locator(mdates.MonthLocator())\n",
    "ax5.legend()\n",
    "plt.xticks(rotation=45)\n",
    "\n",
    "# 6. Tỷ lệ tử vong theo thời gian\n",
    "ax6 = plt.subplot(3, 2, 6)\n",
    "mortality_rate = (df_full_grouped['Deaths'] / df_full_grouped['Confirmed']) * 100\n",
    "ax6.plot(df_full_grouped['ObservationDate'], mortality_rate, 'k-')\n",
    "ax6.set_ylabel('Tỷ lệ tử vong (%)')\n",
    "ax6.set_title('Tỷ lệ tử vong theo thời gian')\n",
    "ax6.xaxis.set_major_formatter(mdates.DateFormatter('%Y-%m-%d'))\n",
    "ax6.xaxis.set_major_locator(mdates.MonthLocator())\n",
    "plt.xticks(rotation=45)\n",
    "\n",
    "plt.tight_layout()\n",
    "plt.show()"
   ]
  },
  {
   "cell_type": "markdown",
   "metadata": {},
   "source": [
    "### Top 10 quốc gia có nhiều ca nhiễm, tử vong, hồi phục"
   ]
  },
  {
   "cell_type": "code",
   "execution_count": null,
   "metadata": {},
   "outputs": [],
   "source": [
    "# Lấy dữ liệu mới nhất theo từng quốc gia\n",
    "df_country_wise_latest = covid_data.copy()\n",
    "latest_date = df_country_wise_latest['ObservationDate'].max()\n",
    "\n",
    "# Lọc data mới nhất\n",
    "df_country_wise_latest = df_country_wise_latest[df_country_wise_latest['ObservationDate'] == latest_date]\n",
    "df_country_wise_latest = df_country_wise_latest.groupby('Country/Region')[['Confirmed', 'Deaths', 'Recovered']].sum().reset_index()\n",
    "\n",
    "# Top 10 quốc gia theo từng chỉ số\n",
    "top_countries_cases = df_country_wise_latest.nlargest(10, 'Confirmed')[['Country/Region', 'Confirmed']]\n",
    "top_countries_deaths = df_country_wise_latest.nlargest(10, 'Deaths')[['Country/Region', 'Deaths']]\n",
    "top_countries_recovered = df_country_wise_latest.nlargest(10, 'Recovered')[['Country/Region', 'Recovered']]\n",
    "\n",
    "# Vẽ biểu đồ bar\n",
    "fig, axes = plt.subplots(1, 3, figsize=(18, 6))\n",
    "# Confirmed cases\n",
    "sns.barplot(x='Confirmed', y='Country/Region',\n",
    "            data=top_countries_cases, ax=axes[0],\n",
    "            palette='Blues_r', hue='Country/Region', legend=False)\n",
    "axes[0].set_title('10 quốc gia có số ca nhiễm cao nhất')\n",
    "# Deaths\n",
    "sns.barplot(x='Deaths', y='Country/Region',\n",
    "            data=top_countries_deaths, ax=axes[1],\n",
    "            palette='Reds_r', hue='Country/Region', legend=False)\n",
    "axes[1].set_title(\"10 quốc gia có số ca tử vong cao nhất\")\n",
    "\n",
    "# Recovered\n",
    "sns.barplot(x='Recovered', y='Country/Region',\n",
    "            data=top_countries_recovered, ax=axes[2],\n",
    "            palette='Greens_r', hue='Country/Region', legend=False)\n",
    "axes[2].set_title('10 quốc gia có số ca hồi phục cao nhất')\n",
    "\n",
    "plt.tight_layout()\n",
    "plt.show()\n"
   ]
  },
  {
   "cell_type": "markdown",
   "metadata": {},
   "source": [
    "### Tính tỷ lệ tử vong và hồi phục"
   ]
  },
  {
   "cell_type": "code",
   "execution_count": null,
   "metadata": {},
   "outputs": [],
   "source": [
    "df_country_wise_latest[\"Tỉ lệ tử vong (%)\"] = (df_country_wise_latest['Deaths'] / df_country_wise_latest['Confirmed']) * 100\n",
    "df_country_wise_latest[\"Tỉ lệ hồi phục (%)\"] = (df_country_wise_latest['Recovered'] / df_country_wise_latest['Confirmed']) * 100\n",
    "\n",
    "# Hiển thị kết quả\n",
    "df_country_wise_latest[['Country/Region', 'Confirmed', 'Deaths', 'Recovered',\n",
    "                        'Tỉ lệ tử vong (%)', 'Tỉ lệ hồi phục (%)']].head(10)\n"
   ]
  },
  {
   "cell_type": "markdown",
   "metadata": {},
   "source": [
    "### Phân tích và so sánh xu hướng theo tháng và tuần"
   ]
  },
  {
   "cell_type": "code",
   "execution_count": null,
   "metadata": {},
   "outputs": [],
   "source": [
    "df_full_grouped = covid_data.copy()\n",
    "df_full_grouped['ObservationDate'] = pd.to_datetime(df_full_grouped['ObservationDate'])\n",
    "\n",
    "# Gom nhóm toàn cầu theo ngày\n",
    "df_full_grouped = df_full_grouped.groupby('ObservationDate')[['Confirmed', 'Deaths', 'Recovered']].sum().reset_index()\n",
    "\n",
    "# Thêm cột Month, Week\n",
    "df_full_grouped['Month'] = df_full_grouped['ObservationDate'].dt.month\n",
    "df_full_grouped['Week'] = df_full_grouped['ObservationDate'].dt.isocalendar().week\n",
    "\n",
    "# Gom nhóm theo tháng\n",
    "monthly_data = df_full_grouped.groupby('Month')[['Confirmed', 'Deaths', 'Recovered']].mean()\n",
    "\n",
    "# Gom nhóm theo tuần\n",
    "weekly_data = df_full_grouped.groupby('Week')[['Confirmed', 'Deaths', 'Recovered']].mean()\n"
   ]
  },
  {
   "cell_type": "markdown",
   "metadata": {},
   "source": [
    "### Vẽ biểu đồ tháng và tuần"
   ]
  },
  {
   "cell_type": "code",
   "execution_count": null,
   "metadata": {},
   "outputs": [],
   "source": [
    "import matplotlib.pyplot as plt\n",
    "\n",
    "fig, axes = plt.subplots(1, 2, figsize=(20, 6), sharey=True)  # Chia sẻ trục y để dễ so sánh\n",
    "\n",
    "# Biểu đồ theo tháng\n",
    "monthly_plot = monthly_data.plot(kind='line', marker='o', ax=axes[0], legend=False)\n",
    "axes[0].set_title('So sánh theo tháng giữa số ca nhiễm, số ca tử vong và số ca hồi phục trong COVID-19')\n",
    "axes[0].set_xlabel('Tháng')\n",
    "axes[0].grid(True)\n",
    "\n",
    "# Biểu đồ theo tuần\n",
    "weekly_plot = weekly_data.plot(kind='line', marker='o', ax=axes[1], legend=False)\n",
    "axes[1].set_title('So sánh theo tuần giữa số ca nhiễm, số ca tử vong và số ca hồi phục trong COVID-19')\n",
    "axes[1].set_xlabel('Tuần')\n",
    "axes[1].grid(True)\n",
    "\n",
    "handles, labels = monthly_plot.get_legend_handles_labels()\n",
    "fig.legend(handles, labels, loc='upper center', ncol=len(labels))\n",
    "\n",
    "# Hiển thị biểu đồ\n",
    "plt.tight_layout(rect=[0, 0, 1, 0.9])  # Để tránh legend chồng lên biểu đồ\n",
    "plt.show()\n"
   ]
  },
  {
   "cell_type": "markdown",
   "metadata": {},
   "source": [
    "### Tính và vẽ daily new cases/deaths/recoveries cho một quốc gia"
   ]
  },
  {
   "cell_type": "code",
   "execution_count": null,
   "metadata": {},
   "outputs": [],
   "source": [
    "# Bản sao dữ liệu và chuẩn hóa thời gian\n",
    "df_daily = covid_data.copy()\n",
    "df_daily['ObservationDate'] = pd.to_datetime(df_daily['ObservationDate'])\n",
    "\n",
    "# Gom nhóm theo quốc gia và ngày (tránh trùng lặp tỉnh/thành)\n",
    "df_daily = df_daily.groupby(['Country/Region', 'ObservationDate'])[['Confirmed', 'Deaths', 'Recovered']].sum().reset_index()\n",
    "df_daily = df_daily.sort_values(['Country/Region', 'ObservationDate'])\n",
    "\n",
    "# Tính số ca mới mỗi ngày (dạng diff bình thường)\n",
    "df_daily['Daily New Cases'] = df_daily.groupby('Country/Region')['Confirmed'].diff().fillna(0)\n",
    "df_daily['Daily New Deaths'] = df_daily.groupby('Country/Region')['Deaths'].diff().fillna(0)\n",
    "df_daily['Daily New Recoveries'] = df_daily.groupby('Country/Region')['Recovered'].diff().fillna(0)\n",
    "\n",
    "# Chọn quốc gia cần vẽ\n",
    "country_name = 'Vietnam'\n",
    "sample_country = df_daily[df_daily['Country/Region'] == country_name]\n",
    "\n",
    "# Vẽ biểu đồ\n",
    "plt.figure(figsize=(14, 8))\n",
    "sns.lineplot(x='ObservationDate', y='Daily New Cases', data=sample_country, label='Ca nhiễm mới mỗi ngày')\n",
    "sns.lineplot(x='ObservationDate', y='Daily New Deaths', data=sample_country, label='Ca tử vong mỗi ngày', color='red')\n",
    "sns.lineplot(x='ObservationDate', y='Daily New Recoveries', data=sample_country, label='Ca hồi phục mỗi ngày', color='green')\n",
    "\n",
    "plt.title(f'Diễn biến ca nhiễm, tử vong và hồi phục mỗi ngày tại {country_name}')\n",
    "plt.xlabel('Ngày')\n",
    "plt.ylabel('Số lượng (mỗi ngày)')\n",
    "plt.legend()\n",
    "plt.xticks(rotation=45)\n",
    "plt.tight_layout()\n",
    "plt.show()"
   ]
  },
  {
   "cell_type": "markdown",
   "metadata": {},
   "source": [
    "### Phân tích top 10 quốc gia có số ca nhiễm cao nhất"
   ]
  },
  {
   "cell_type": "code",
   "execution_count": null,
   "metadata": {},
   "outputs": [],
   "source": [
    "# Chuẩn bị dữ liệu country_wise mới nhất\n",
    "latest_date = covid_data['ObservationDate'].max()\n",
    "df_country_wise_latest = covid_data[covid_data['ObservationDate'] == latest_date]\n",
    "df_country_wise_latest = df_country_wise_latest.groupby('Country/Region')[['Confirmed', 'Deaths', 'Recovered']].sum().reset_index()\n",
    "\n",
    "# Lấy top 10 quốc gia\n",
    "top_10_countries_list = df_country_wise_latest.nlargest(10, 'Confirmed')['Country/Region'].tolist()\n",
    "\n",
    "# Lọc dữ liệu theo các quốc gia này\n",
    "df_top10 = covid_data[covid_data['Country/Region'].isin(top_10_countries_list)]\n",
    "\n",
    "# Gom nhóm theo ngày và quốc gia\n",
    "df_top10_grouped = df_top10.groupby(['ObservationDate', 'Country/Region'])[['Confirmed']].sum().reset_index()\n",
    "\n",
    "# Vẽ biểu đồ\n",
    "plt.figure(figsize=(14,8))\n",
    "sns.lineplot(x='ObservationDate', y='Confirmed', hue='Country/Region', data=df_top10_grouped, palette='tab10')\n",
    "plt.title('Số ca nhiễm COVID-19 theo ngày tại 10 quốc gia hàng đầu')\n",
    "plt.xlabel('Ngày')\n",
    "plt.ylabel('Số ca nhiễm')\n",
    "plt.legend(title='Country/Region', bbox_to_anchor=(1.05, 1), loc='upper left')\n",
    "plt.xticks(rotation=45)\n",
    "plt.tight_layout()\n",
    "plt.show()\n"
   ]
  },
  {
   "cell_type": "markdown",
   "metadata": {},
   "source": [
    "### Phân tích top 10 quốc gia có tỷ lệ tử vong trên số ca nhiễm cao nhất"
   ]
  },
  {
   "cell_type": "markdown",
   "metadata": {},
   "source": [
    "#### Số ca nhiễm và tử vong ở Top 10 quốc gia có **CFR cao nhất**"
   ]
  },
  {
   "cell_type": "code",
   "execution_count": null,
   "metadata": {},
   "outputs": [],
   "source": [
    "# Tính tỷ lệ tử vong (CFR)\n",
    "df_country_wise_latest['CFR (%)'] = (df_country_wise_latest['Deaths'] / df_country_wise_latest['Confirmed']) * 100\n",
    "df_country_wise_latest = df_country_wise_latest.replace([np.inf, -np.inf], np.nan).dropna(subset=['CFR (%)'])\n",
    "\n",
    "# Top 10 quốc gia có tỷ lệ tử vong cao nhất\n",
    "top_10_cfr = df_country_wise_latest.nlargest(10, 'CFR (%)')\n",
    "\n",
    "# Tạo figure chứa cả hai biểu đồ với tỷ lệ chiều rộng khác nhau (1:2)\n",
    "fig, axes = plt.subplots(1, 2, figsize=(24, 20), \n",
    "                        gridspec_kw={'width_ratios': [1, 2]})  # Biểu đồ 1 chiếm 1/3 tổng chiều rộng\n",
    "\n",
    "# Top 10 quốc gia có tỷ lệ tử vong cao nhất\n",
    "sns.barplot(\n",
    "    x='CFR (%)',\n",
    "    y='Country/Region',\n",
    "    data=top_10_cfr,\n",
    "    palette='Reds',\n",
    "    hue='Country/Region',\n",
    "    legend=False,\n",
    "    ax=axes[0]\n",
    ")\n",
    "\n",
    "axes[0].set_title('Top 10 quốc gia có tỷ lệ tử vong (CFR) cao nhất')\n",
    "axes[0].set_xlabel('Tỷ lệ tử vong (%)')\n",
    "axes[0].set_ylabel('Quốc gia/Vùng lãnh thổ')\n",
    "\n",
    "\n",
    "# ---------------------------------------------------------------------------\n",
    "# So sánh số ca nhiễm và tử vong\n",
    "\n",
    "countries = top_10_cfr['Country/Region']\n",
    "confirmed_cases = top_10_cfr['Confirmed']\n",
    "deaths = top_10_cfr['Deaths']\n",
    "\n",
    "x = np.arange(len(countries))\n",
    "width = 0.35  # Độ rộng của cột\n",
    "\n",
    "rects1 = axes[1].bar(x - width/2, confirmed_cases, width, label='Số ca nhiễm', color='#3498db', alpha=0.7)\n",
    "axes[1].set_yscale('log')\n",
    "axes[1].set_ylabel('Số ca nhiễm (thang logarit)', color='#3498db')\n",
    "axes[1].tick_params(axis='y', labelcolor='#3498db')\n",
    "\n",
    "ax2 = axes[1].twinx()\n",
    "rects2 = ax2.bar(x + width/2, deaths, width, label='Số ca tử vong', color='#e74c3c', alpha=0.7)\n",
    "ax2.set_yscale('log')\n",
    "ax2.set_ylabel('Số ca tử vong (thang logarit)', color='#e74c3c')\n",
    "ax2.tick_params(axis='y', labelcolor='#e74c3c')\n",
    "\n",
    "for i, cfr in enumerate(top_10_cfr['CFR (%)']):\n",
    "    axes[1].text(i, confirmed_cases.iloc[i]*1.1, f'CFR: {cfr:.1f}%',\n",
    "          ha='right', va='bottom', fontweight='bold', color='black',\n",
    "          bbox=dict(facecolor='white', alpha=0.7, boxstyle='round,pad=0.3'))\n",
    "\n",
    "axes[1].set_title('So sánh số ca nhiễm và tử vong ở Top 10 quốc gia có CFR cao nhất', fontsize=16)\n",
    "axes[1].set_xticks(x)\n",
    "axes[1].set_xticklabels(countries, rotation=45, ha='right')\n",
    "axes[1].set_xlabel('Quốc gia/Vùng lãnh thổ')\n",
    "axes[1].grid(True, alpha=0.3, linestyle='--')\n",
    "\n",
    "\n",
    "handles1, labels1 = axes[1].get_legend_handles_labels()\n",
    "handles2, labels2 = ax2.get_legend_handles_labels()\n",
    "axes[1].legend(handles1 + handles2, labels1 + labels2, loc='upper right')\n",
    "\n",
    "plt.figtext(0.5, 0.01,\n",
    "        \"Chú thích: CFR (Case Fatality Rate) là tỷ lệ tử vong trên tổng số ca nhiễm đã được xác nhận\",\n",
    "        ha=\"center\", fontsize=14, style='italic')\n",
    "\n",
    "plt.tight_layout(rect=[0, 0.02, 1, 0.98])\n",
    "plt.show()"
   ]
  },
  {
   "cell_type": "markdown",
   "metadata": {},
   "source": [
    "#### Số ca nhiễm và tử vong ở Top 10 quốc gia có **số ca nhiễm cao nhất**"
   ]
  },
  {
   "cell_type": "code",
   "execution_count": null,
   "metadata": {},
   "outputs": [],
   "source": [
    "# Chuẩn bị dữ liệu country_wise mới nhất\n",
    "latest_date = covid_data['ObservationDate'].max()\n",
    "df_country_wise_latest = covid_data[covid_data['ObservationDate'] == latest_date]\n",
    "df_country_wise_latest = df_country_wise_latest.groupby('Country/Region')[['Confirmed', 'Deaths', 'Recovered']].sum().reset_index()\n",
    "\n",
    "# Tính tỷ lệ tử vong (CFR)\n",
    "df_country_wise_latest['CFR (%)'] = (df_country_wise_latest['Deaths'] / df_country_wise_latest['Confirmed']) * 100\n",
    "df_country_wise_latest = df_country_wise_latest.replace([np.inf, -np.inf], np.nan).dropna(subset=['CFR (%)'])\n",
    "\n",
    "# Lấy top 10 quốc gia có số ca nhiễm lớn nhất\n",
    "top_10_countries = df_country_wise_latest.nlargest(10, 'Confirmed')\n",
    "\n",
    "# Tạo figure chứa cả hai biểu đồ với tỷ lệ chiều rộng khác nhau (1:2)\n",
    "fig, axes = plt.subplots(1, 2, figsize=(24, 16), \n",
    "                        gridspec_kw={'width_ratios': [1, 2]})  # Biểu đồ 1 chiếm 1/3 tổng chiều rộng\n",
    "\n",
    "# Top 10 quốc gia có số ca nhiễm lớn nhất và tỷ lệ tử vong (CFR)\n",
    "sns.barplot(\n",
    "    x='CFR (%)',\n",
    "    y='Country/Region',\n",
    "    data=top_10_countries,\n",
    "    palette='Blues',\n",
    "    hue='Country/Region',\n",
    "    legend=False,\n",
    "    ax=axes[0]\n",
    ")\n",
    "\n",
    "axes[0].set_title('Tỷ lệ tử vong (CFR) của 10 quốc gia có số ca nhiễm lớn nhất')\n",
    "axes[0].set_xlabel('Tỷ lệ tử vong (%)')\n",
    "axes[0].set_ylabel('Quốc gia/Vùng lãnh thổ')\n",
    "\n",
    "# So sánh số ca nhiễm và tử vong\n",
    "countries = top_10_countries['Country/Region']\n",
    "confirmed_cases = top_10_countries['Confirmed']\n",
    "deaths = top_10_countries['Deaths']\n",
    "\n",
    "x = np.arange(len(countries))\n",
    "width = 0.35  # Độ rộng của cột\n",
    "\n",
    "rects1 = axes[1].bar(x - width/2, confirmed_cases, width, label='Số ca nhiễm', color='#3498db', alpha=0.7)\n",
    "axes[1].set_yscale('log')\n",
    "axes[1].set_ylabel('Số ca nhiễm (thang logarit)', color='#3498db')\n",
    "axes[1].tick_params(axis='y', labelcolor='#3498db')\n",
    "\n",
    "ax2 = axes[1].twinx()\n",
    "rects2 = ax2.bar(x + width/2, deaths, width, label='Số ca tử vong', color='#e74c3c', alpha=0.7)\n",
    "ax2.set_yscale('log')\n",
    "ax2.set_ylabel('Số ca tử vong (thang logarit)', color='#e74c3c')\n",
    "ax2.tick_params(axis='y', labelcolor='#e74c3c')\n",
    "\n",
    "for i, cfr in enumerate(top_10_countries['CFR (%)']):\n",
    "    axes[1].text(i, confirmed_cases.iloc[i]*1.1, f'CFR: {cfr:.1f}%',\n",
    "          ha='right', va='bottom', fontweight='bold', color='black',\n",
    "          bbox=dict(facecolor='white', alpha=0.7, boxstyle='round,pad=0.3'))\n",
    "\n",
    "axes[1].set_title('So sánh số ca nhiễm và tử vong ở 10 quốc gia có số ca nhiễm lớn nhất', fontsize=16)\n",
    "axes[1].set_xticks(x)\n",
    "axes[1].set_xticklabels(countries, rotation=45, ha='right')\n",
    "axes[1].set_xlabel('Quốc gia/Vùng lãnh thổ')\n",
    "axes[1].grid(True, alpha=0.3, linestyle='--')\n",
    "\n",
    "handles1, labels1 = axes[1].get_legend_handles_labels()\n",
    "handles2, labels2 = ax2.get_legend_handles_labels()\n",
    "axes[1].legend(handles1 + handles2, labels1 + labels2, loc='upper right')\n",
    "\n",
    "plt.figtext(0.5, 0.01,\n",
    "        \"Chú thích: CFR (Case Fatality Rate) là tỷ lệ tử vong trên tổng số ca nhiễm đã được xác nhận\",\n",
    "        ha=\"center\", fontsize=14, style='italic')\n",
    "\n",
    "plt.tight_layout(rect=[0, 0.02, 1, 0.98])\n",
    "plt.show()"
   ]
  },
  {
   "cell_type": "markdown",
   "metadata": {},
   "source": [
    "**Nhận xét:**\n",
    "\n",
    "- Có thể thấy, các quốc gia như Yemen, Mali, Syria, Zimbabwe có tỷ lệ tử vong trong COVID-19 cao dù số ca nhiễm thấp so với các nước khác trên thế giới, thấp hơn đáng kể khi so với top 10 nước có số ca nhiễm cao nhất. Ví dụ, đối với ***top 10 quốc gia có số ca nhiễm cao nhất***, đa số đều có số ca nhiễm lớn hơn $10^3$ (thang log) nhưng CFR đều thâps hơn $5$% trong khi ***top 10 quốc gia có CFR cao nhất*** lại có số ca nhiễm thấp dưới $10^4$ (thang log) nhưng CFR đều cao hơn $11$%   \n",
    "- Nguyên nhân có thể suy đoán ra từ thông tin này có thể là do đa số các nước trên  là các nước kém phát triển, thiếu cơ sở hạ tầng, giường bệnh và nhân viên y tế, tỷ lệ xét nghiệm và tiêm vaccine thấp hoặc vaccine khan hiếm. \n",
    "\n",
    "**Lưu ý:**\n",
    "Dữ liệu thu thập được có thể không đầy đủ. Số ca nhiễm thực tế có thể cao hơn báo cáo vì ***có một số cột số ca nhiễm thấp hơn số ca tử vong.***"
   ]
  },
  {
   "cell_type": "markdown",
   "metadata": {},
   "source": [
    "## Xử lý dữ liệu theo châu lục"
   ]
  },
  {
   "cell_type": "code",
   "execution_count": null,
   "metadata": {},
   "outputs": [],
   "source": [
    "import pandas as pd\n",
    "import matplotlib.pyplot as plt\n",
    "import seaborn as sns\n",
    "import country_converter as coco\n",
    "import numpy as np\n",
    "from scipy.stats import pearsonr\n",
    "# Bước 1: Lấy ngày mới nhất trong dữ liệu\n",
    "latest_date = covid_data['ObservationDate'].max()\n",
    "\n",
    "# Bước 2: Lọc dữ liệu ngày mới nhất\n",
    "df_latest = covid_data[covid_data['ObservationDate'] == latest_date].copy()\n",
    "\n",
    "# Bước 3: Gom nhóm theo quốc gia\n",
    "df_latest_grouped = df_latest.groupby('Country/Region')[['Confirmed', 'Deaths', 'Recovered']].sum().reset_index()\n",
    "\n",
    "cc = coco.CountryConverter()\n",
    "\n",
    "df_latest_grouped['Continent'] = cc.convert(names=df_latest_grouped['Country/Region'], to='continent')\n",
    "# Bỏ các hàng không xác định được châu lục\n",
    "df_latest_grouped = df_latest_grouped[df_latest_grouped['Continent'] != 'not found']\n",
    "df_latest_grouped = df_latest_grouped[df_latest_grouped['Continent'] != 'Oceania']"
   ]
  },
  {
   "cell_type": "markdown",
   "metadata": {},
   "source": [
    "Hai con tàu Diamond Pricess và MS Zaadam là trường hợp đặc biệt khi thời gian khảo sát là khoảng thời gian 2 con tàu du lịch ra khơi nên sẽ không được tính vào phần châu lục và phần Châu Đại Dương do có quá ít ảnh hưởng nên cũng sẽ không được thêm vào"
   ]
  },
  {
   "cell_type": "markdown",
   "metadata": {},
   "source": [
    "Tổng số ca, tử vong, hồi phục theo châu lục (Continent)"
   ]
  },
  {
   "cell_type": "code",
   "execution_count": null,
   "metadata": {},
   "outputs": [],
   "source": [
    "continent_data = df_latest_grouped.groupby('Continent')[['Confirmed', 'Deaths', 'Recovered']].sum()\n",
    "\n",
    "# Vẽ stacked bar chart\n",
    "continent_data.plot(kind='bar', stacked=True, figsize=(14, 8))\n",
    "plt.title('Tổng số ca nhiễm, tử vong và hồi phục do COVID-19 theo châu lục')\n",
    "plt.xlabel('Châu lục')\n",
    "plt.ylabel('Tổng số ca')\n",
    "plt.xticks(rotation=45)\n",
    "plt.tight_layout()\n",
    "plt.show()\n"
   ]
  },
  {
   "cell_type": "markdown",
   "metadata": {},
   "source": [
    "### Tỷ lệ tử vong và hồi phục theo châu lục"
   ]
  },
  {
   "cell_type": "code",
   "execution_count": null,
   "metadata": {},
   "outputs": [],
   "source": [
    "continent_data['Death Rate (%)'] = (continent_data['Deaths'] / continent_data['Confirmed']) * 100\n",
    "continent_data['Recovery Rate (%)'] = (continent_data['Recovered'] / continent_data['Confirmed']) * 100\n",
    "\n",
    "continent_data[['Death Rate (%)', 'Recovery Rate (%)']].plot(\n",
    "    kind='bar', figsize=(8, 6), color=['red', 'green']\n",
    ")\n",
    "\n",
    "plt.title('Tỷ lệ tử vong và hồi phục theo châu lục')\n",
    "plt.xlabel('Châu lục')\n",
    "plt.ylabel('Tỉ lệ (%)')\n",
    "plt.xticks(rotation=45)\n",
    "plt.tight_layout()\n",
    "plt.show()\n"
   ]
  },
  {
   "cell_type": "markdown",
   "metadata": {},
   "source": [
    "### Phân phối tổng số ca bệnh theo châu lục"
   ]
  },
  {
   "cell_type": "code",
   "execution_count": null,
   "metadata": {},
   "outputs": [],
   "source": [
    "continent_cases = df_latest_grouped.groupby('Continent')['Confirmed'].sum()\n",
    "plt.figure(figsize=(15, 15))\n",
    "continent_cases.plot(kind='pie', autopct='%1.1f%%', startangle=90, cmap='Set3')\n",
    "plt.title('Phân phối tổng số ca bệnh theo châu lục')\n",
    "plt.ylabel('')\n",
    "plt.tight_layout()\n",
    "plt.show()\n"
   ]
  },
  {
   "cell_type": "markdown",
   "metadata": {},
   "source": [
    "## Bản đồ phân bố số ca nhiễm COVID-19 trên toàn cầu"
   ]
  },
  {
   "cell_type": "code",
   "execution_count": null,
   "metadata": {},
   "outputs": [],
   "source": [
    "import plotly.express as px\n",
    "\n",
    "\n",
    "# Chuẩn bị dữ liệu: df_latest_grouped đã có cột 'Country/Region' và 'Confirmed'\n",
    "# Nếu chưa có thì dùng đoạn xử lý ở trên để tạo\n",
    "\n",
    "fig = px.scatter_geo(\n",
    "    df_latest_grouped,\n",
    "    locations=\"Country/Region\",\n",
    "    locationmode=\"country names\",\n",
    "    size=\"Confirmed\",\n",
    "    color_discrete_sequence=[\"red\"],\n",
    "    hover_name=\"Country/Region\",\n",
    "    hover_data={\"Confirmed\": True},\n",
    "    projection=\"natural earth\",\n",
    "    title=\"Global COVID-19 Infections by Country (Bubble Map)\",\n",
    "    size_max=50  # bạn có thể chỉnh max size của chấm\n",
    ")\n",
    "\n",
    "fig.update_layout(\n",
    "    geo=dict(showland=True, landcolor=\"lightgray\"),\n",
    "    margin=dict(l=0, r=0, t=40, b=0)\n",
    ")\n",
    "\n",
    "fig.show()\n"
   ]
  }
 ],
 "metadata": {
  "kernelspec": {
   "display_name": "base",
   "language": "python",
   "name": "python3"
  },
  "language_info": {
   "codemirror_mode": {
    "name": "ipython",
    "version": 3
   },
   "file_extension": ".py",
   "mimetype": "text/x-python",
   "name": "python",
   "nbconvert_exporter": "python",
   "pygments_lexer": "ipython3",
   "version": "3.12.9"
  }
 },
 "nbformat": 4,
 "nbformat_minor": 2
}
